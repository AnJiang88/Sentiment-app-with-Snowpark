{
 "cells": [
  {
   "cell_type": "code",
   "execution_count": 1,
   "id": "ec0a988b",
   "metadata": {},
   "outputs": [],
   "source": [
    "# Snowpark for Python\n",
    "import snowflake.snowpark\n",
    "from snowflake.snowpark.session import Session\n",
    "from snowflake.snowpark.functions import udf, col, call_udf\n",
    "from snowflake.snowpark.types import *\n",
    "\n",
    "# Other\n",
    "import sys, string, io, os, math\n",
    "import zipfile\n",
    "import pickle\n",
    "import pandas as pd\n",
    "import json\n",
    "from cachetools import cached\n",
    "\n",
    "# increase the max number of columns to display - default 20, switch to truncate view if exceeded\n",
    "pd.set_option('display.max_columns', 50)\n",
    "# increase the width of the column so we can see more raw text - default 50 characters\n",
    "pd.set_option('display.max_colwidth', 150)"
   ]
  },
  {
   "cell_type": "code",
   "execution_count": 2,
   "id": "b82d1779",
   "metadata": {},
   "outputs": [],
   "source": [
    "connection_parameters = {\n",
    "    \"account\": 'wne',\n",
    "    \"user\": 'an.jiang@imaginelearning.com',\n",
    "    \"authenticator\": 'externalbrowser',\n",
    "    # \"role\": os.environ[\"SNOWFLAKE_ROLE\"]\n",
    "    # \"warehouse\": 'SQL_WH',\n",
    "    \"warehouse\": 'DATA_SCIENCE_WH',\n",
    "    # \"database\": 'weld_north_test',\n",
    "    \"database\": 'sandbox',\n",
    "    # \"schema\": 'zendesk'\n",
    "    \"schema\": 'scratch'\n",
    "  }\n",
    "# connection_parameters = json.load(open(r'C:\\Users\\an.jiang\\src\\snowflake_credentials.json'))"
   ]
  },
  {
   "cell_type": "code",
   "execution_count": 3,
   "id": "fb9ddccb",
   "metadata": {},
   "outputs": [
    {
     "name": "stdout",
     "output_type": "stream",
     "text": [
      "Initiating login request with your identity provider. A browser window should have opened for you to complete the login. If you can't see it, check existing browser windows, or your OS settings. Press CTRL+C to abort and try again...\n",
      "[Row(CURRENT_WAREHOUSE()='DATA_SCIENCE_WH', CURRENT_DATABASE()='SANDBOX', CURRENT_SCHEMA()='SCRATCH')]\n"
     ]
    }
   ],
   "source": [
    "# Create Snowflake Session object\n",
    "session = Session.builder.configs(connection_parameters).create()\n",
    "print(session.sql(\"select current_warehouse(), current_database(), current_schema()\").collect())"
   ]
  },
  {
   "cell_type": "markdown",
   "id": "1dc9aadf",
   "metadata": {},
   "source": [
    "## Setting up the Examples for this Section"
   ]
  },
  {
   "cell_type": "code",
   "execution_count": 4,
   "id": "6e7fba5a",
   "metadata": {},
   "outputs": [
    {
     "data": {
      "text/plain": [
       "[Row(status='Table SAMPLE_PRODUCT_DATA successfully created.')]"
      ]
     },
     "execution_count": 4,
     "metadata": {},
     "output_type": "execute_result"
    }
   ],
   "source": [
    "session.sql('CREATE OR REPLACE TABLE sample_product_data (id INT, parent_id INT, category_id INT, name VARCHAR, serial_number VARCHAR, key INT, \"3rd\" INT)').collect()"
   ]
  },
  {
   "cell_type": "code",
   "execution_count": 5,
   "id": "da4bdc06",
   "metadata": {},
   "outputs": [
    {
     "data": {
      "text/plain": [
       "[Row(number of rows inserted=12)]"
      ]
     },
     "execution_count": 5,
     "metadata": {},
     "output_type": "execute_result"
    }
   ],
   "source": [
    "session.sql(\"\"\"\n",
    "INSERT INTO sample_product_data VALUES\n",
    "(1, 0, 5, 'Product 1', 'prod-1', 1, 10),\n",
    "(2, 1, 5, 'Product 1A', 'prod-1-A', 1, 20),\n",
    "(3, 1, 5, 'Product 1B', 'prod-1-B', 1, 30),\n",
    "(4, 0, 10, 'Product 2', 'prod-2', 2, 40),\n",
    "(5, 4, 10, 'Product 2A', 'prod-2-A', 2, 50),\n",
    "(6, 4, 10, 'Product 2B', 'prod-2-B', 2, 60),\n",
    "(7, 0, 20, 'Product 3', 'prod-3', 3, 70),\n",
    "(8, 7, 20, 'Product 3A', 'prod-3-A', 3, 80),\n",
    "(9, 7, 20, 'Product 3B', 'prod-3-B', 3, 90),\n",
    "(10, 0, 50, 'Product 4', 'prod-4', 4, 100),\n",
    "(11, 10, 50, 'Product 4A', 'prod-4-A', 4, 100),\n",
    "(12, 10, 50, 'Product 4B', 'prod-4-B', 4, 100)\n",
    "\"\"\").collect()"
   ]
  },
  {
   "cell_type": "code",
   "execution_count": 6,
   "id": "e9c36898",
   "metadata": {},
   "outputs": [
    {
     "data": {
      "text/plain": [
       "[Row(COUNT(*)=12)]"
      ]
     },
     "execution_count": 6,
     "metadata": {},
     "output_type": "execute_result"
    }
   ],
   "source": [
    "session.sql(\"SELECT count(*) FROM sample_product_data\").collect()"
   ]
  },
  {
   "cell_type": "markdown",
   "id": "72ba368b",
   "metadata": {},
   "source": [
    "## Constructing a DataFrame"
   ]
  },
  {
   "cell_type": "code",
   "execution_count": 7,
   "id": "d089e987",
   "metadata": {},
   "outputs": [
    {
     "name": "stdout",
     "output_type": "stream",
     "text": [
      "-------------------------------------------------------------------------------------\n",
      "|\"ID\"  |\"PARENT_ID\"  |\"CATEGORY_ID\"  |\"NAME\"      |\"SERIAL_NUMBER\"  |\"KEY\"  |\"3rd\"  |\n",
      "-------------------------------------------------------------------------------------\n",
      "|1     |0            |5              |Product 1   |prod-1           |1      |10     |\n",
      "|2     |1            |5              |Product 1A  |prod-1-A         |1      |20     |\n",
      "|3     |1            |5              |Product 1B  |prod-1-B         |1      |30     |\n",
      "|4     |0            |10             |Product 2   |prod-2           |2      |40     |\n",
      "|5     |4            |10             |Product 2A  |prod-2-A         |2      |50     |\n",
      "|6     |4            |10             |Product 2B  |prod-2-B         |2      |60     |\n",
      "|7     |0            |20             |Product 3   |prod-3           |3      |70     |\n",
      "|8     |7            |20             |Product 3A  |prod-3-A         |3      |80     |\n",
      "|9     |7            |20             |Product 3B  |prod-3-B         |3      |90     |\n",
      "|10    |0            |50             |Product 4   |prod-4           |4      |100    |\n",
      "-------------------------------------------------------------------------------------\n",
      "\n"
     ]
    }
   ],
   "source": [
    "# Create a DataFrame from the data in the \"sample_product_data\" table.\n",
    "df_table = session.table(\"sample_product_data\")\n",
    "\n",
    "# To print out the first 10 rows, call \n",
    "df_table.show()"
   ]
  },
  {
   "cell_type": "code",
   "execution_count": 8,
   "id": "b49d7e12",
   "metadata": {},
   "outputs": [
    {
     "data": {
      "text/plain": [
       "snowflake.snowpark.table.Table"
      ]
     },
     "execution_count": 8,
     "metadata": {},
     "output_type": "execute_result"
    }
   ],
   "source": [
    "type(df_table)"
   ]
  },
  {
   "cell_type": "code",
   "execution_count": 20,
   "id": "9bc37045",
   "metadata": {},
   "outputs": [
    {
     "name": "stdout",
     "output_type": "stream",
     "text": [
      "------------------------------------------------------------------------------------\n",
      "|\"ID\"  |\"PARENT_ID\"  |\"CATEGORY_ID\"  |\"NAME\"     |\"SERIAL_NUMBER\"  |\"KEY\"  |\"3rd\"  |\n",
      "------------------------------------------------------------------------------------\n",
      "|1     |0            |5              |Product 1  |prod-1           |1      |10     |\n",
      "------------------------------------------------------------------------------------\n",
      "\n"
     ]
    }
   ],
   "source": [
    "from snowflake.snowpark.functions import col\n",
    "df = session.table(\"sample_product_data\").filter(col(\"id\") == 1)\n",
    "df.show()"
   ]
  },
  {
   "cell_type": "code",
   "execution_count": 21,
   "id": "4a6d95e7",
   "metadata": {},
   "outputs": [
    {
     "name": "stdout",
     "output_type": "stream",
     "text": [
      "---------------------------------------\n",
      "|\"ID\"  |\"NAME\"      |\"SERIAL_NUMBER\"  |\n",
      "---------------------------------------\n",
      "|1     |Product 1   |prod-1           |\n",
      "|2     |Product 1A  |prod-1-A         |\n",
      "|3     |Product 1B  |prod-1-B         |\n",
      "|4     |Product 2   |prod-2           |\n",
      "|5     |Product 2A  |prod-2-A         |\n",
      "|6     |Product 2B  |prod-2-B         |\n",
      "|7     |Product 3   |prod-3           |\n",
      "|8     |Product 3A  |prod-3-A         |\n",
      "|9     |Product 3B  |prod-3-B         |\n",
      "|10    |Product 4   |prod-4           |\n",
      "---------------------------------------\n",
      "\n"
     ]
    }
   ],
   "source": [
    "df = session.table(\"sample_product_data\").select(col(\"id\"), col(\"name\"), col(\"serial_number\"))\n",
    "df.show()"
   ]
  },
  {
   "cell_type": "code",
   "execution_count": null,
   "id": "b2a45aee",
   "metadata": {},
   "outputs": [],
   "source": []
  },
  {
   "cell_type": "code",
   "execution_count": null,
   "id": "74dab501",
   "metadata": {},
   "outputs": [],
   "source": []
  },
  {
   "cell_type": "code",
   "execution_count": null,
   "id": "440d2a5d",
   "metadata": {},
   "outputs": [],
   "source": []
  },
  {
   "cell_type": "code",
   "execution_count": null,
   "id": "8b0afe58",
   "metadata": {},
   "outputs": [],
   "source": []
  },
  {
   "cell_type": "code",
   "execution_count": null,
   "id": "55212a7f",
   "metadata": {},
   "outputs": [],
   "source": []
  },
  {
   "cell_type": "code",
   "execution_count": null,
   "id": "a69b2341",
   "metadata": {},
   "outputs": [],
   "source": []
  },
  {
   "cell_type": "code",
   "execution_count": null,
   "id": "8d3ec9ed",
   "metadata": {},
   "outputs": [],
   "source": []
  },
  {
   "cell_type": "code",
   "execution_count": null,
   "id": "90a5e96a",
   "metadata": {},
   "outputs": [],
   "source": []
  },
  {
   "cell_type": "code",
   "execution_count": null,
   "id": "0bc85cdd",
   "metadata": {},
   "outputs": [],
   "source": []
  },
  {
   "cell_type": "code",
   "execution_count": null,
   "id": "e040da61",
   "metadata": {},
   "outputs": [],
   "source": []
  },
  {
   "cell_type": "code",
   "execution_count": null,
   "id": "3a6f35cd",
   "metadata": {},
   "outputs": [],
   "source": []
  },
  {
   "cell_type": "code",
   "execution_count": null,
   "id": "c20b0040",
   "metadata": {},
   "outputs": [],
   "source": []
  }
 ],
 "metadata": {
  "kernelspec": {
   "display_name": "py38_env",
   "language": "python",
   "name": "py38_env"
  },
  "language_info": {
   "codemirror_mode": {
    "name": "ipython",
    "version": 3
   },
   "file_extension": ".py",
   "mimetype": "text/x-python",
   "name": "python",
   "nbconvert_exporter": "python",
   "pygments_lexer": "ipython3",
   "version": "3.8.13"
  }
 },
 "nbformat": 4,
 "nbformat_minor": 5
}
