{
 "cells": [
  {
   "cell_type": "markdown",
   "id": "9105c1d2",
   "metadata": {},
   "source": [
    "# Establish Secure Connection to Snowflake"
   ]
  },
  {
   "cell_type": "markdown",
   "id": "2c4635eb",
   "metadata": {},
   "source": [
    "### Create a conda virtual environment and install snowpark and other dependencies\n",
    "`conda create --name snowpark_env -c https://repo.anaconda.com/pkgs/snowflake python=3.8 numpy pandas cachetools spacy scikit-learn`\n",
    "<br>\n",
    "`conda activate snowpark_env`\n",
    "<br>\n",
    "`pip install \"snowflake-snowpark-python[pandas]\"`\n",
    "<br>\n",
    "`python -m spacy download en_core_web_sm`\n",
    "\n",
    "### packages that Snowflake Anaconda doesn't support yet\n",
    "`pip install spacytextblob`\n",
    "<br>\n",
    "`pip install pytextrank`\n",
    "### Add virtual env to ipykernel for Jupyter Notebook to use\n",
    "`conda install -c anaconda ipykernel`\n",
    "<br>\n",
    "`python -m ipykernel install --user --name=snowpark_env`\n",
    "### Create stage \"python_load\" and stage \"model_data\" to store Python UDFs and trained model files\n",
    "Instructions on how to create a stage on Snowflake: https://hevodata.com/learn/snowflake-stages/\n",
    "### Upload spacy pretrained NLP pipeline to a named stage from local computer\n",
    "`put file://C:\\Users\\an.jiang\\src\\snowpark_demo\\spacy_trained_models\\model_for_upload\\en_core_web_sm.zip @model_data AUTO_COMPRESS=TRUE OVERWRITE = TRUE;`\n",
    "<br>\n",
    "How to use PUSH command in snowsql cli: https://docs.snowflake.com/en/sql-reference/sql/put.html\n",
    "### Use Snowflake Dashboard and Chart tools of Snowsight to visualize Zendesk ticket sentiment trend\n",
    "https://hevodata.com/learn/snowflake-dashboards/"
   ]
  },
  {
   "cell_type": "code",
   "execution_count": 1,
   "id": "f56aa0fd",
   "metadata": {},
   "outputs": [],
   "source": [
    "# Snowpark for Python\n",
    "import snowflake.snowpark\n",
    "from snowflake.snowpark.session import Session\n",
    "from snowflake.snowpark.functions import udf, col, call_udf\n",
    "from snowflake.snowpark.types import *\n",
    "\n",
    "# Others\n",
    "import sys, string, io, os, math\n",
    "import zipfile\n",
    "import pickle\n",
    "import numpy as np\n",
    "import pandas as pd\n",
    "import json\n",
    "from cachetools import cached\n",
    "\n",
    "# increase the max number of columns to display - default 20, switch to truncate view if exceeded\n",
    "pd.set_option('display.max_columns', 50)\n",
    "# increase the width of the column so we can see more raw text - default 50 characters\n",
    "pd.set_option('display.max_colwidth', 500)"
   ]
  },
  {
   "cell_type": "code",
   "execution_count": 2,
   "id": "17efceee",
   "metadata": {},
   "outputs": [],
   "source": [
    "connection_parameters = {\n",
    "    \"account\": 'wne',\n",
    "    \"user\": 'an.jiang@imaginelearning.com',\n",
    "    \"authenticator\": 'externalbrowser',\n",
    "    # \"role\": os.environ[\"SNOWFLAKE_ROLE\"]\n",
    "    \"warehouse\": 'SQL_WH',\n",
    "    \"database\": 'SANDBOX',\n",
    "    \"schema\": 'SCRATCH'\n",
    "  }\n",
    "# connection_parameters = json.load(open(r'C:\\Users\\an.jiang\\src\\snowflake_credentials.json'))"
   ]
  },
  {
   "cell_type": "code",
   "execution_count": 3,
   "id": "41c763d0",
   "metadata": {
    "scrolled": true
   },
   "outputs": [
    {
     "name": "stdout",
     "output_type": "stream",
     "text": [
      "Initiating login request with your identity provider. A browser window should have opened for you to complete the login. If you can't see it, check existing browser windows, or your OS settings. Press CTRL+C to abort and try again...\n",
      "[Row(CURRENT_WAREHOUSE()='SQL_WH', CURRENT_DATABASE()='SANDBOX', CURRENT_SCHEMA()='SCRATCH')]\n"
     ]
    }
   ],
   "source": [
    "# Create Snowflake Session object\n",
    "session = Session.builder.configs(connection_parameters).create()\n",
    "print(session.sql(\"select current_warehouse(), current_database(), current_schema()\").collect())"
   ]
  },
  {
   "cell_type": "markdown",
   "id": "227e4efe",
   "metadata": {},
   "source": [
    "***"
   ]
  },
  {
   "cell_type": "markdown",
   "id": "33c50516",
   "metadata": {},
   "source": [
    "==================================================================================================================="
   ]
  },
  {
   "cell_type": "markdown",
   "id": "a6a0af32",
   "metadata": {},
   "source": [
    "# Read unstructured Zendesk data "
   ]
  },
  {
   "cell_type": "code",
   "execution_count": 4,
   "id": "fe80c732",
   "metadata": {},
   "outputs": [
    {
     "data": {
      "text/html": [
       "<div>\n",
       "<style scoped>\n",
       "    .dataframe tbody tr th:only-of-type {\n",
       "        vertical-align: middle;\n",
       "    }\n",
       "\n",
       "    .dataframe tbody tr th {\n",
       "        vertical-align: top;\n",
       "    }\n",
       "\n",
       "    .dataframe thead th {\n",
       "        text-align: right;\n",
       "    }\n",
       "</style>\n",
       "<table border=\"1\" class=\"dataframe\">\n",
       "  <thead>\n",
       "    <tr style=\"text-align: right;\">\n",
       "      <th></th>\n",
       "      <th>ID</th>\n",
       "      <th>URL</th>\n",
       "      <th>EXTERNAL_ID</th>\n",
       "      <th>TYPE</th>\n",
       "      <th>SUBJECT</th>\n",
       "      <th>RAW_SUBJECT</th>\n",
       "      <th>DESCRIPTION</th>\n",
       "      <th>PRIORITY</th>\n",
       "      <th>STATUS</th>\n",
       "      <th>RECIPIENT</th>\n",
       "      <th>REQUESTER_ID</th>\n",
       "      <th>SUBMITTER_ID</th>\n",
       "      <th>ASSIGNEE_ID</th>\n",
       "      <th>ORGANIZATION_ID</th>\n",
       "      <th>GROUP_ID</th>\n",
       "      <th>COLLABORATOR_IDS</th>\n",
       "      <th>FOLLOWER_IDS</th>\n",
       "      <th>EMAIL_CC_IDS</th>\n",
       "      <th>FORUM_TOPIC_ID</th>\n",
       "      <th>PROBLEM_ID</th>\n",
       "      <th>HAS_INCIDENTS</th>\n",
       "      <th>DUE_AT</th>\n",
       "      <th>TAGS</th>\n",
       "      <th>VIA</th>\n",
       "      <th>CUSTOM_FIELDS</th>\n",
       "      <th>SATISFACTION_RATING</th>\n",
       "      <th>SHARING_AGREEMENT_IDS</th>\n",
       "      <th>FOLLOWUP_IDS</th>\n",
       "      <th>TICKET_FORM_ID</th>\n",
       "      <th>BRAND_ID</th>\n",
       "      <th>ALLOW_CHANNELBACK</th>\n",
       "      <th>ALLOW_ATTACHMENTS</th>\n",
       "      <th>IS_PUBLIC</th>\n",
       "      <th>CREATED_AT</th>\n",
       "      <th>UPDATED_AT</th>\n",
       "      <th>ROW_CHECKSUM</th>\n",
       "    </tr>\n",
       "  </thead>\n",
       "  <tbody>\n",
       "    <tr>\n",
       "      <th>0</th>\n",
       "      <td>2010904</td>\n",
       "      <td>https://edgenuity.zendesk.com/api/v2/tickets/2010904.json</td>\n",
       "      <td>None</td>\n",
       "      <td>question</td>\n",
       "      <td>Course Request</td>\n",
       "      <td>Course Request</td>\n",
       "      <td>&lt;div align=\"center\"&gt;&lt;div align=\"center\"&gt;\\n\\n&lt;table border=\"1\" cellspacing=\"0\" cellpadding=\"0\" style=\"max-width: 6.25in; background-image: initial; background-size: initial; background-repeat: initial; background-attachment: initial; background-origin: initial; background-clip: initial; background-color: rgba(255, 255, 255, 1); border-collapse: collapse; border: none\"&gt;\\n &lt;tbody&gt;&lt;tr&gt;\\n  &lt;td style=\"border-top: 1pt solid rgba(221, 221, 221, 1); border-right: 1pt solid rgba(221, 221, 221, 1); bor...</td>\n",
       "      <td>normal</td>\n",
       "      <td>closed</td>\n",
       "      <td>admissions@edgenuity.com</td>\n",
       "      <td>362143489268</td>\n",
       "      <td>362143489268</td>\n",
       "      <td>1507094000222</td>\n",
       "      <td>1.500442e+12</td>\n",
       "      <td>360004538234</td>\n",
       "      <td>[]</td>\n",
       "      <td>[]</td>\n",
       "      <td>[]</td>\n",
       "      <td>NaN</td>\n",
       "      <td>NaN</td>\n",
       "      <td>False</td>\n",
       "      <td>NaT</td>\n",
       "      <td>[\\n  \"admissions_course_request\",\\n  \"asa_individual_public_course_request\",\\n  \"assigned_to_admissions\",\\n  \"dg-macro-1500031315001\",\\n  \"did_31935\",\\n  \"is_admissions_survey_sent\",\\n  \"is_help_center\",\\n  \"product_courseware\",\\n  \"realm_05\",\\n  \"standard_school\"\\n]</td>\n",
       "      <td>{\\n  \"channel\": \"email\",\\n  \"source\": {\\n    \"from\": {\\n      \"address\": \"noreply@edgenuity.com\",\\n      \"name\": \"Reply No\"\\n    },\\n    \"to\": {\\n      \"address\": \"admissions@edgenuity.com\",\\n      \"name\": \"Imagine Learning\"\\n    }\\n  }\\n}</td>\n",
       "      <td>[\\n  {\\n    \"id\": 360053997313\\n  },\\n  {\\n    \"id\": 360053495554\\n  },\\n  {\\n    \"id\": 360046824194\\n  },\\n  {\\n    \"id\": 360052996354\\n  },\\n  {\\n    \"id\": 360031704834\\n  },\\n  {\\n    \"id\": 360053998853\\n  },\\n  {\\n    \"id\": 360033966853\\n  },\\n  {\\n    \"id\": 1900006981125\\n  },\\n  {\\n    \"id\": 1500003320582\\n  },\\n  {\\n    \"id\": 1500007156742,\\n    \"value\": \"false\"\\n  },\\n  {\\n    \"id\": 360000070407\\n  },\\n  {\\n    \"id\": 360047024393\\n  },\\n  {\\n    \"id\": 1900000749065\\n  },\\n  {\\n    \"i...</td>\n",
       "      <td>{\\n  \"score\": \"unoffered\"\\n}</td>\n",
       "      <td>[]</td>\n",
       "      <td>[]</td>\n",
       "      <td>1500000574562</td>\n",
       "      <td>360002067674</td>\n",
       "      <td>False</td>\n",
       "      <td>True</td>\n",
       "      <td>True</td>\n",
       "      <td>2022-03-28 23:41:34</td>\n",
       "      <td>2022-04-02 13:01:38</td>\n",
       "      <td>25913f74e72be9f2c3e91f3cedb5ed9a8cdf40b4e69019dae3e14baa135e40b5</td>\n",
       "    </tr>\n",
       "    <tr>\n",
       "      <th>1</th>\n",
       "      <td>2010996</td>\n",
       "      <td>https://edgenuity.zendesk.com/api/v2/tickets/2010996.json</td>\n",
       "      <td>None</td>\n",
       "      <td>None</td>\n",
       "      <td>Sync CompleteSuccess -  - 4821160 - MathFacts</td>\n",
       "      <td>Sync CompleteSuccess -  - 4821160 - MathFacts</td>\n",
       "      <td># Sync CompleteFailure\\n\\n***Session ID: 2022-03-29T05:02:00.587Z***\\n***Job ID: 426f37a2-1318-45d2-9a31-95e4422496b0***\\n\\nFatal error processing 4821160 session 2022-03-29T05:02:00.587Z for MathFacts. \\nImportType: oneroster11\\n\\nUploaded Files:\\n\\timportFiles/4821160/MathFacts/2022-03-29T05:02:00.587Z/oneroster1_1.zip\\n\\n\\n\\nFiles copied to staging:\\n\\timportFiles/4821160/MathFacts/2022-03-29T05:02:00.587Z/OneRoster_errors.csv\\nFatal Error: TypeError\\n{\"errorType\":\"TypeError\",\"errorMessag...</td>\n",
       "      <td>normal</td>\n",
       "      <td>closed</td>\n",
       "      <td>None</td>\n",
       "      <td>1500104837902</td>\n",
       "      <td>1500104837902</td>\n",
       "      <td>426441101414</td>\n",
       "      <td>3.705828e+11</td>\n",
       "      <td>360015595214</td>\n",
       "      <td>[\\n  \"1500195863142\",\\n  \"360464355887\"\\n]</td>\n",
       "      <td>[\\n  \"1500195863142\"\\n]</td>\n",
       "      <td>[\\n  \"360464355887\"\\n]</td>\n",
       "      <td>NaN</td>\n",
       "      <td>NaN</td>\n",
       "      <td>False</td>\n",
       "      <td>NaT</td>\n",
       "      <td>[\\n  \"assign_il_eq_2\",\\n  \"clever_pause\",\\n  \"imagine_learning_internal_communication\",\\n  \"products_math_facts\",\\n  \"rostering\",\\n  \"rostering_frequency_recurring\",\\n  \"rostering_sync\",\\n  \"rostering_sync_failed\",\\n  \"rosteringlevel_assisted\",\\n  \"sso_classlink\",\\n  \"sync_complete_failure\",\\n  \"sync_complete_success\",\\n  \"tasks_present\",\\n  \"tasks_remain\",\\n  \"ticket_is_created_private\"\\n]</td>\n",
       "      <td>{\\n  \"channel\": \"api\",\\n  \"source\": {\\n    \"from\": null,\\n    \"to\": null\\n  }\\n}</td>\n",
       "      <td>[\\n  {\\n    \"id\": 360053997313\\n  },\\n  {\\n    \"id\": 360053495554,\\n    \"value\": \"Sync CompleteSuccess -  - 4821160 - MathFacts\"\\n  },\\n  {\\n    \"id\": 360046824194\\n  },\\n  {\\n    \"id\": 360052996354\\n  },\\n  {\\n    \"id\": 360031704834\\n  },\\n  {\\n    \"id\": 360053998853\\n  },\\n  {\\n    \"id\": 360033966853\\n  },\\n  {\\n    \"id\": 1900006981125\\n  },\\n  {\\n    \"id\": 1500003320582\\n  },\\n  {\\n    \"id\": 1500007156742,\\n    \"value\": \"false\"\\n  },\\n  {\\n    \"id\": 360000070407\\n  },\\n  {\\n    \"id\": 3600...</td>\n",
       "      <td>{\\n  \"score\": \"unoffered\"\\n}</td>\n",
       "      <td>[]</td>\n",
       "      <td>[]</td>\n",
       "      <td>360005491894</td>\n",
       "      <td>360005871534</td>\n",
       "      <td>False</td>\n",
       "      <td>True</td>\n",
       "      <td>True</td>\n",
       "      <td>2022-03-29 05:02:36</td>\n",
       "      <td>2022-04-02 15:02:46</td>\n",
       "      <td>76ee6cad10394def457be99265dd03d6307abe0b5ec2b6362e8aa8379f10ff6c</td>\n",
       "    </tr>\n",
       "    <tr>\n",
       "      <th>2</th>\n",
       "      <td>2011105</td>\n",
       "      <td>https://edgenuity.zendesk.com/api/v2/tickets/2011105.json</td>\n",
       "      <td>None</td>\n",
       "      <td>question</td>\n",
       "      <td>Chat with Brooke Holmes</td>\n",
       "      <td>Chat with Brooke Holmes</td>\n",
       "      <td>Chat started: 2022-03-29 12:58 PM UTC\\nServed by: Tutor Ms. Monique\\n\\nIP: 168.10.169.140\\nUser Agent: Mozilla/5.0 (X11; CrOS aarch64 14469.58.0) AppleWebKit/537.36 (KHTML, like Gecko) Chrome/99.0.4844.86 Safari/537.36\\nCountry: United States\\nCity: Gray\\nURL: https://r08.core.learn.edgenuity.com/Player/\\n\\nChat ID: 2203.1801676.T1TUIGDAd29lX\\n\\nThe chat transcript will be appended when the agent or visitor leaves the chat.</td>\n",
       "      <td>normal</td>\n",
       "      <td>closed</td>\n",
       "      <td>None</td>\n",
       "      <td>5094042624663</td>\n",
       "      <td>5094042624663</td>\n",
       "      <td>420712817974</td>\n",
       "      <td>NaN</td>\n",
       "      <td>43851087</td>\n",
       "      <td>[]</td>\n",
       "      <td>[]</td>\n",
       "      <td>[]</td>\n",
       "      <td>NaN</td>\n",
       "      <td>NaN</td>\n",
       "      <td>False</td>\n",
       "      <td>NaT</td>\n",
       "      <td>[\\n  \"activitynameassignment\",\\n  \"cc_ended_chat_solved\",\\n  \"concept_coaching_tutoring\",\\n  \"contact_type_student\",\\n  \"courseid115194939\",\\n  \"coursenameadvanced_math_b\",\\n  \"districtid5247\",\\n  \"edgenuity\",\\n  \"fullnamebrooke_holmes\",\\n  \"lessonnameslopes_of_parallel_and_perpendicular_lines\",\\n  \"schoolid21604\",\\n  \"schoolnameclifton_ridge_middle_tutor\",\\n  \"sessionid62167605\",\\n  \"subjectmath\",\\n  \"typestudent\",\\n  \"userid95951161\",\\n  \"zopim_chat\",\\n  \"zopim_chat_ended\",\\n  \"zopimtrigge...</td>\n",
       "      <td>{\\n  \"channel\": \"chat\",\\n  \"source\": {\\n    \"from\": null,\\n    \"to\": null\\n  }\\n}</td>\n",
       "      <td>[\\n  {\\n    \"id\": 360053997313\\n  },\\n  {\\n    \"id\": 360053495554\\n  },\\n  {\\n    \"id\": 360046824194\\n  },\\n  {\\n    \"id\": 360052996354\\n  },\\n  {\\n    \"id\": 360031704834\\n  },\\n  {\\n    \"id\": 360053998853\\n  },\\n  {\\n    \"id\": 360033966853\\n  },\\n  {\\n    \"id\": 1900006981125\\n  },\\n  {\\n    \"id\": 1500003320582\\n  },\\n  {\\n    \"id\": 1500007156742,\\n    \"value\": \"false\"\\n  },\\n  {\\n    \"id\": 360000070407\\n  },\\n  {\\n    \"id\": 360047024393\\n  },\\n  {\\n    \"id\": 1900000749065\\n  },\\n  {\\n    \"i...</td>\n",
       "      <td>{\\n  \"score\": \"unoffered\"\\n}</td>\n",
       "      <td>[]</td>\n",
       "      <td>[]</td>\n",
       "      <td>360001090393</td>\n",
       "      <td>360002067674</td>\n",
       "      <td>False</td>\n",
       "      <td>True</td>\n",
       "      <td>True</td>\n",
       "      <td>2022-03-29 13:02:34</td>\n",
       "      <td>2022-04-02 15:02:26</td>\n",
       "      <td>dd9103d0aff49636e3240593583c69659686ff0816655ae19d23e3089544d6da</td>\n",
       "    </tr>\n",
       "    <tr>\n",
       "      <th>3</th>\n",
       "      <td>2011328</td>\n",
       "      <td>https://edgenuity.zendesk.com/api/v2/tickets/2011328.json</td>\n",
       "      <td>None</td>\n",
       "      <td>question</td>\n",
       "      <td>LearnZillion: Password Reset Inquiry</td>\n",
       "      <td>LearnZillion: Password Reset Inquiry</td>\n",
       "      <td>I need to reset my password</td>\n",
       "      <td>normal</td>\n",
       "      <td>closed</td>\n",
       "      <td>None</td>\n",
       "      <td>1507894610141</td>\n",
       "      <td>1507894610141</td>\n",
       "      <td>378327750434</td>\n",
       "      <td>1.500414e+12</td>\n",
       "      <td>360012032853</td>\n",
       "      <td>[]</td>\n",
       "      <td>[]</td>\n",
       "      <td>[]</td>\n",
       "      <td>NaN</td>\n",
       "      <td>NaN</td>\n",
       "      <td>False</td>\n",
       "      <td>NaT</td>\n",
       "      <td>[\\n  \"_large_district\",\\n  \"customer\",\\n  \"lz_technical_issues\"\\n]</td>\n",
       "      <td>{\\n  \"channel\": \"api\",\\n  \"source\": {\\n    \"from\": null,\\n    \"to\": null\\n  }\\n}</td>\n",
       "      <td>[\\n  {\\n    \"id\": 360053997313\\n  },\\n  {\\n    \"id\": 360053495554\\n  },\\n  {\\n    \"id\": 360046824194\\n  },\\n  {\\n    \"id\": 360052996354\\n  },\\n  {\\n    \"id\": 360031704834\\n  },\\n  {\\n    \"id\": 360053998853\\n  },\\n  {\\n    \"id\": 360033966853\\n  },\\n  {\\n    \"id\": 1900006981125\\n  },\\n  {\\n    \"id\": 1500003320582\\n  },\\n  {\\n    \"id\": 1500007156742,\\n    \"value\": \"false\"\\n  },\\n  {\\n    \"id\": 360000070407\\n  },\\n  {\\n    \"id\": 360047024393\\n  },\\n  {\\n    \"id\": 1900000749065\\n  },\\n  {\\n    \"i...</td>\n",
       "      <td>{\\n  \"score\": \"offered\"\\n}</td>\n",
       "      <td>[]</td>\n",
       "      <td>[]</td>\n",
       "      <td>1500000564522</td>\n",
       "      <td>360005156393</td>\n",
       "      <td>False</td>\n",
       "      <td>True</td>\n",
       "      <td>True</td>\n",
       "      <td>2022-03-29 14:28:22</td>\n",
       "      <td>2022-04-02 17:02:56</td>\n",
       "      <td>611c6653da0c6d43e40149a561a4824353f99dd92bb5f2800dd82184e7b73036</td>\n",
       "    </tr>\n",
       "    <tr>\n",
       "      <th>4</th>\n",
       "      <td>2011497</td>\n",
       "      <td>https://edgenuity.zendesk.com/api/v2/tickets/2011497.json</td>\n",
       "      <td>None</td>\n",
       "      <td>question</td>\n",
       "      <td>Chat with Bethany Waite</td>\n",
       "      <td>Chat with Bethany Waite</td>\n",
       "      <td>Chat started: 2022-03-29 03:23 PM UTC\\nServed by: Tutor: Mrs. Betty\\n\\nIP: 97.76.91.28\\nUser Agent: Mozilla/5.0 (Windows NT 10.0; Win64; x64) AppleWebKit/537.36 (KHTML, like Gecko) Chrome/99.0.4844.82 Safari/537.36\\nCountry: United States\\nCity: Bradenton\\nURL: https://r10.core.learn.edgenuity.com/Player/\\n\\nChat ID: 2203.1801676.T1U4vrcCU3E9y\\n\\nThe chat transcript will be appended when the agent or visitor leaves the chat.</td>\n",
       "      <td>normal</td>\n",
       "      <td>closed</td>\n",
       "      <td>None</td>\n",
       "      <td>5097700727703</td>\n",
       "      <td>5097700727703</td>\n",
       "      <td>1516505116721</td>\n",
       "      <td>NaN</td>\n",
       "      <td>43851087</td>\n",
       "      <td>[]</td>\n",
       "      <td>[]</td>\n",
       "      <td>[]</td>\n",
       "      <td>NaN</td>\n",
       "      <td>NaN</td>\n",
       "      <td>False</td>\n",
       "      <td>NaT</td>\n",
       "      <td>[\\n  \"activitynameassignment\",\\n  \"activitynameinstruction\",\\n  \"activitynamesummary\",\\n  \"cc_ended_chat_solved\",\\n  \"cc_pullup\",\\n  \"concept_coaching_tutoring\",\\n  \"contact_type_student\",\\n  \"courseid135594095\",\\n  \"coursenamefl-1200310-algebra_1_sem_2\",\\n  \"districtid27079\",\\n  \"edgenuity\",\\n  \"fullnamebethany_waite\",\\n  \"lessonnamemultiplying_monomials_and_binomials\",\\n  \"schoolid80137\",\\n  \"schoolnamepalm_shores_behavioral_health_center_is\",\\n  \"sessionid48513869\",\\n  \"subjectmath\",\\n  \"...</td>\n",
       "      <td>{\\n  \"channel\": \"chat\",\\n  \"source\": {\\n    \"from\": null,\\n    \"to\": null\\n  }\\n}</td>\n",
       "      <td>[\\n  {\\n    \"id\": 360053997313\\n  },\\n  {\\n    \"id\": 360053495554\\n  },\\n  {\\n    \"id\": 360046824194\\n  },\\n  {\\n    \"id\": 360052996354\\n  },\\n  {\\n    \"id\": 360031704834\\n  },\\n  {\\n    \"id\": 360053998853\\n  },\\n  {\\n    \"id\": 360033966853\\n  },\\n  {\\n    \"id\": 1900006981125\\n  },\\n  {\\n    \"id\": 1500003320582\\n  },\\n  {\\n    \"id\": 1500007156742,\\n    \"value\": \"false\"\\n  },\\n  {\\n    \"id\": 360000070407\\n  },\\n  {\\n    \"id\": 360047024393\\n  },\\n  {\\n    \"id\": 1900000749065\\n  },\\n  {\\n    \"i...</td>\n",
       "      <td>{\\n  \"score\": \"unoffered\"\\n}</td>\n",
       "      <td>[]</td>\n",
       "      <td>[]</td>\n",
       "      <td>360001090393</td>\n",
       "      <td>360002067674</td>\n",
       "      <td>False</td>\n",
       "      <td>True</td>\n",
       "      <td>True</td>\n",
       "      <td>2022-03-29 15:24:04</td>\n",
       "      <td>2022-04-02 17:02:39</td>\n",
       "      <td>0cb31b8390369c180aa7fb74d41dd78b77b6c915650260d6d8cc2b732a16f64d</td>\n",
       "    </tr>\n",
       "  </tbody>\n",
       "</table>\n",
       "</div>"
      ],
      "text/plain": [
       "        ID                                                        URL  \\\n",
       "0  2010904  https://edgenuity.zendesk.com/api/v2/tickets/2010904.json   \n",
       "1  2010996  https://edgenuity.zendesk.com/api/v2/tickets/2010996.json   \n",
       "2  2011105  https://edgenuity.zendesk.com/api/v2/tickets/2011105.json   \n",
       "3  2011328  https://edgenuity.zendesk.com/api/v2/tickets/2011328.json   \n",
       "4  2011497  https://edgenuity.zendesk.com/api/v2/tickets/2011497.json   \n",
       "\n",
       "  EXTERNAL_ID      TYPE                                        SUBJECT  \\\n",
       "0        None  question                                 Course Request   \n",
       "1        None      None  Sync CompleteSuccess -  - 4821160 - MathFacts   \n",
       "2        None  question                        Chat with Brooke Holmes   \n",
       "3        None  question           LearnZillion: Password Reset Inquiry   \n",
       "4        None  question                        Chat with Bethany Waite   \n",
       "\n",
       "                                     RAW_SUBJECT  \\\n",
       "0                                 Course Request   \n",
       "1  Sync CompleteSuccess -  - 4821160 - MathFacts   \n",
       "2                        Chat with Brooke Holmes   \n",
       "3           LearnZillion: Password Reset Inquiry   \n",
       "4                        Chat with Bethany Waite   \n",
       "\n",
       "                                                                                                                                                                                                                                                                                                                                                                                                                                                                                                           DESCRIPTION  \\\n",
       "0  <div align=\"center\"><div align=\"center\">\\n\\n<table border=\"1\" cellspacing=\"0\" cellpadding=\"0\" style=\"max-width: 6.25in; background-image: initial; background-size: initial; background-repeat: initial; background-attachment: initial; background-origin: initial; background-clip: initial; background-color: rgba(255, 255, 255, 1); border-collapse: collapse; border: none\">\\n <tbody><tr>\\n  <td style=\"border-top: 1pt solid rgba(221, 221, 221, 1); border-right: 1pt solid rgba(221, 221, 221, 1); bor...   \n",
       "1  # Sync CompleteFailure\\n\\n***Session ID: 2022-03-29T05:02:00.587Z***\\n***Job ID: 426f37a2-1318-45d2-9a31-95e4422496b0***\\n\\nFatal error processing 4821160 session 2022-03-29T05:02:00.587Z for MathFacts. \\nImportType: oneroster11\\n\\nUploaded Files:\\n\\timportFiles/4821160/MathFacts/2022-03-29T05:02:00.587Z/oneroster1_1.zip\\n\\n\\n\\nFiles copied to staging:\\n\\timportFiles/4821160/MathFacts/2022-03-29T05:02:00.587Z/OneRoster_errors.csv\\nFatal Error: TypeError\\n{\"errorType\":\"TypeError\",\"errorMessag...   \n",
       "2                                                                          Chat started: 2022-03-29 12:58 PM UTC\\nServed by: Tutor Ms. Monique\\n\\nIP: 168.10.169.140\\nUser Agent: Mozilla/5.0 (X11; CrOS aarch64 14469.58.0) AppleWebKit/537.36 (KHTML, like Gecko) Chrome/99.0.4844.86 Safari/537.36\\nCountry: United States\\nCity: Gray\\nURL: https://r08.core.learn.edgenuity.com/Player/\\n\\nChat ID: 2203.1801676.T1TUIGDAd29lX\\n\\nThe chat transcript will be appended when the agent or visitor leaves the chat.   \n",
       "3                                                                                                                                                                                                                                                                                                                                                                                                                                                                                          I need to reset my password   \n",
       "4                                                                         Chat started: 2022-03-29 03:23 PM UTC\\nServed by: Tutor: Mrs. Betty\\n\\nIP: 97.76.91.28\\nUser Agent: Mozilla/5.0 (Windows NT 10.0; Win64; x64) AppleWebKit/537.36 (KHTML, like Gecko) Chrome/99.0.4844.82 Safari/537.36\\nCountry: United States\\nCity: Bradenton\\nURL: https://r10.core.learn.edgenuity.com/Player/\\n\\nChat ID: 2203.1801676.T1U4vrcCU3E9y\\n\\nThe chat transcript will be appended when the agent or visitor leaves the chat.   \n",
       "\n",
       "  PRIORITY  STATUS                 RECIPIENT   REQUESTER_ID   SUBMITTER_ID  \\\n",
       "0   normal  closed  admissions@edgenuity.com   362143489268   362143489268   \n",
       "1   normal  closed                      None  1500104837902  1500104837902   \n",
       "2   normal  closed                      None  5094042624663  5094042624663   \n",
       "3   normal  closed                      None  1507894610141  1507894610141   \n",
       "4   normal  closed                      None  5097700727703  5097700727703   \n",
       "\n",
       "     ASSIGNEE_ID  ORGANIZATION_ID      GROUP_ID  \\\n",
       "0  1507094000222     1.500442e+12  360004538234   \n",
       "1   426441101414     3.705828e+11  360015595214   \n",
       "2   420712817974              NaN      43851087   \n",
       "3   378327750434     1.500414e+12  360012032853   \n",
       "4  1516505116721              NaN      43851087   \n",
       "\n",
       "                             COLLABORATOR_IDS             FOLLOWER_IDS  \\\n",
       "0                                          []                       []   \n",
       "1  [\\n  \"1500195863142\",\\n  \"360464355887\"\\n]  [\\n  \"1500195863142\"\\n]   \n",
       "2                                          []                       []   \n",
       "3                                          []                       []   \n",
       "4                                          []                       []   \n",
       "\n",
       "             EMAIL_CC_IDS  FORUM_TOPIC_ID  PROBLEM_ID  HAS_INCIDENTS DUE_AT  \\\n",
       "0                      []             NaN         NaN          False    NaT   \n",
       "1  [\\n  \"360464355887\"\\n]             NaN         NaN          False    NaT   \n",
       "2                      []             NaN         NaN          False    NaT   \n",
       "3                      []             NaN         NaN          False    NaT   \n",
       "4                      []             NaN         NaN          False    NaT   \n",
       "\n",
       "                                                                                                                                                                                                                                                                                                                                                                                                                                                                                                                  TAGS  \\\n",
       "0                                                                                                                                                                                                                                          [\\n  \"admissions_course_request\",\\n  \"asa_individual_public_course_request\",\\n  \"assigned_to_admissions\",\\n  \"dg-macro-1500031315001\",\\n  \"did_31935\",\\n  \"is_admissions_survey_sent\",\\n  \"is_help_center\",\\n  \"product_courseware\",\\n  \"realm_05\",\\n  \"standard_school\"\\n]   \n",
       "1                                                                                                            [\\n  \"assign_il_eq_2\",\\n  \"clever_pause\",\\n  \"imagine_learning_internal_communication\",\\n  \"products_math_facts\",\\n  \"rostering\",\\n  \"rostering_frequency_recurring\",\\n  \"rostering_sync\",\\n  \"rostering_sync_failed\",\\n  \"rosteringlevel_assisted\",\\n  \"sso_classlink\",\\n  \"sync_complete_failure\",\\n  \"sync_complete_success\",\\n  \"tasks_present\",\\n  \"tasks_remain\",\\n  \"ticket_is_created_private\"\\n]   \n",
       "2  [\\n  \"activitynameassignment\",\\n  \"cc_ended_chat_solved\",\\n  \"concept_coaching_tutoring\",\\n  \"contact_type_student\",\\n  \"courseid115194939\",\\n  \"coursenameadvanced_math_b\",\\n  \"districtid5247\",\\n  \"edgenuity\",\\n  \"fullnamebrooke_holmes\",\\n  \"lessonnameslopes_of_parallel_and_perpendicular_lines\",\\n  \"schoolid21604\",\\n  \"schoolnameclifton_ridge_middle_tutor\",\\n  \"sessionid62167605\",\\n  \"subjectmath\",\\n  \"typestudent\",\\n  \"userid95951161\",\\n  \"zopim_chat\",\\n  \"zopim_chat_ended\",\\n  \"zopimtrigge...   \n",
       "3                                                                                                                                                                                                                                                                                                                                                                                                                                                   [\\n  \"_large_district\",\\n  \"customer\",\\n  \"lz_technical_issues\"\\n]   \n",
       "4  [\\n  \"activitynameassignment\",\\n  \"activitynameinstruction\",\\n  \"activitynamesummary\",\\n  \"cc_ended_chat_solved\",\\n  \"cc_pullup\",\\n  \"concept_coaching_tutoring\",\\n  \"contact_type_student\",\\n  \"courseid135594095\",\\n  \"coursenamefl-1200310-algebra_1_sem_2\",\\n  \"districtid27079\",\\n  \"edgenuity\",\\n  \"fullnamebethany_waite\",\\n  \"lessonnamemultiplying_monomials_and_binomials\",\\n  \"schoolid80137\",\\n  \"schoolnamepalm_shores_behavioral_health_center_is\",\\n  \"sessionid48513869\",\\n  \"subjectmath\",\\n  \"...   \n",
       "\n",
       "                                                                                                                                                                                                                                               VIA  \\\n",
       "0  {\\n  \"channel\": \"email\",\\n  \"source\": {\\n    \"from\": {\\n      \"address\": \"noreply@edgenuity.com\",\\n      \"name\": \"Reply No\"\\n    },\\n    \"to\": {\\n      \"address\": \"admissions@edgenuity.com\",\\n      \"name\": \"Imagine Learning\"\\n    }\\n  }\\n}   \n",
       "1                                                                                                                                                                 {\\n  \"channel\": \"api\",\\n  \"source\": {\\n    \"from\": null,\\n    \"to\": null\\n  }\\n}   \n",
       "2                                                                                                                                                                {\\n  \"channel\": \"chat\",\\n  \"source\": {\\n    \"from\": null,\\n    \"to\": null\\n  }\\n}   \n",
       "3                                                                                                                                                                 {\\n  \"channel\": \"api\",\\n  \"source\": {\\n    \"from\": null,\\n    \"to\": null\\n  }\\n}   \n",
       "4                                                                                                                                                                {\\n  \"channel\": \"chat\",\\n  \"source\": {\\n    \"from\": null,\\n    \"to\": null\\n  }\\n}   \n",
       "\n",
       "                                                                                                                                                                                                                                                                                                                                                                                                                                                                                                         CUSTOM_FIELDS  \\\n",
       "0  [\\n  {\\n    \"id\": 360053997313\\n  },\\n  {\\n    \"id\": 360053495554\\n  },\\n  {\\n    \"id\": 360046824194\\n  },\\n  {\\n    \"id\": 360052996354\\n  },\\n  {\\n    \"id\": 360031704834\\n  },\\n  {\\n    \"id\": 360053998853\\n  },\\n  {\\n    \"id\": 360033966853\\n  },\\n  {\\n    \"id\": 1900006981125\\n  },\\n  {\\n    \"id\": 1500003320582\\n  },\\n  {\\n    \"id\": 1500007156742,\\n    \"value\": \"false\"\\n  },\\n  {\\n    \"id\": 360000070407\\n  },\\n  {\\n    \"id\": 360047024393\\n  },\\n  {\\n    \"id\": 1900000749065\\n  },\\n  {\\n    \"i...   \n",
       "1  [\\n  {\\n    \"id\": 360053997313\\n  },\\n  {\\n    \"id\": 360053495554,\\n    \"value\": \"Sync CompleteSuccess -  - 4821160 - MathFacts\"\\n  },\\n  {\\n    \"id\": 360046824194\\n  },\\n  {\\n    \"id\": 360052996354\\n  },\\n  {\\n    \"id\": 360031704834\\n  },\\n  {\\n    \"id\": 360053998853\\n  },\\n  {\\n    \"id\": 360033966853\\n  },\\n  {\\n    \"id\": 1900006981125\\n  },\\n  {\\n    \"id\": 1500003320582\\n  },\\n  {\\n    \"id\": 1500007156742,\\n    \"value\": \"false\"\\n  },\\n  {\\n    \"id\": 360000070407\\n  },\\n  {\\n    \"id\": 3600...   \n",
       "2  [\\n  {\\n    \"id\": 360053997313\\n  },\\n  {\\n    \"id\": 360053495554\\n  },\\n  {\\n    \"id\": 360046824194\\n  },\\n  {\\n    \"id\": 360052996354\\n  },\\n  {\\n    \"id\": 360031704834\\n  },\\n  {\\n    \"id\": 360053998853\\n  },\\n  {\\n    \"id\": 360033966853\\n  },\\n  {\\n    \"id\": 1900006981125\\n  },\\n  {\\n    \"id\": 1500003320582\\n  },\\n  {\\n    \"id\": 1500007156742,\\n    \"value\": \"false\"\\n  },\\n  {\\n    \"id\": 360000070407\\n  },\\n  {\\n    \"id\": 360047024393\\n  },\\n  {\\n    \"id\": 1900000749065\\n  },\\n  {\\n    \"i...   \n",
       "3  [\\n  {\\n    \"id\": 360053997313\\n  },\\n  {\\n    \"id\": 360053495554\\n  },\\n  {\\n    \"id\": 360046824194\\n  },\\n  {\\n    \"id\": 360052996354\\n  },\\n  {\\n    \"id\": 360031704834\\n  },\\n  {\\n    \"id\": 360053998853\\n  },\\n  {\\n    \"id\": 360033966853\\n  },\\n  {\\n    \"id\": 1900006981125\\n  },\\n  {\\n    \"id\": 1500003320582\\n  },\\n  {\\n    \"id\": 1500007156742,\\n    \"value\": \"false\"\\n  },\\n  {\\n    \"id\": 360000070407\\n  },\\n  {\\n    \"id\": 360047024393\\n  },\\n  {\\n    \"id\": 1900000749065\\n  },\\n  {\\n    \"i...   \n",
       "4  [\\n  {\\n    \"id\": 360053997313\\n  },\\n  {\\n    \"id\": 360053495554\\n  },\\n  {\\n    \"id\": 360046824194\\n  },\\n  {\\n    \"id\": 360052996354\\n  },\\n  {\\n    \"id\": 360031704834\\n  },\\n  {\\n    \"id\": 360053998853\\n  },\\n  {\\n    \"id\": 360033966853\\n  },\\n  {\\n    \"id\": 1900006981125\\n  },\\n  {\\n    \"id\": 1500003320582\\n  },\\n  {\\n    \"id\": 1500007156742,\\n    \"value\": \"false\"\\n  },\\n  {\\n    \"id\": 360000070407\\n  },\\n  {\\n    \"id\": 360047024393\\n  },\\n  {\\n    \"id\": 1900000749065\\n  },\\n  {\\n    \"i...   \n",
       "\n",
       "            SATISFACTION_RATING SHARING_AGREEMENT_IDS FOLLOWUP_IDS  \\\n",
       "0  {\\n  \"score\": \"unoffered\"\\n}                    []           []   \n",
       "1  {\\n  \"score\": \"unoffered\"\\n}                    []           []   \n",
       "2  {\\n  \"score\": \"unoffered\"\\n}                    []           []   \n",
       "3    {\\n  \"score\": \"offered\"\\n}                    []           []   \n",
       "4  {\\n  \"score\": \"unoffered\"\\n}                    []           []   \n",
       "\n",
       "   TICKET_FORM_ID      BRAND_ID  ALLOW_CHANNELBACK  ALLOW_ATTACHMENTS  \\\n",
       "0   1500000574562  360002067674              False               True   \n",
       "1    360005491894  360005871534              False               True   \n",
       "2    360001090393  360002067674              False               True   \n",
       "3   1500000564522  360005156393              False               True   \n",
       "4    360001090393  360002067674              False               True   \n",
       "\n",
       "   IS_PUBLIC          CREATED_AT          UPDATED_AT  \\\n",
       "0       True 2022-03-28 23:41:34 2022-04-02 13:01:38   \n",
       "1       True 2022-03-29 05:02:36 2022-04-02 15:02:46   \n",
       "2       True 2022-03-29 13:02:34 2022-04-02 15:02:26   \n",
       "3       True 2022-03-29 14:28:22 2022-04-02 17:02:56   \n",
       "4       True 2022-03-29 15:24:04 2022-04-02 17:02:39   \n",
       "\n",
       "                                                       ROW_CHECKSUM  \n",
       "0  25913f74e72be9f2c3e91f3cedb5ed9a8cdf40b4e69019dae3e14baa135e40b5  \n",
       "1  76ee6cad10394def457be99265dd03d6307abe0b5ec2b6362e8aa8379f10ff6c  \n",
       "2  dd9103d0aff49636e3240593583c69659686ff0816655ae19d23e3089544d6da  \n",
       "3  611c6653da0c6d43e40149a561a4824353f99dd92bb5f2800dd82184e7b73036  \n",
       "4  0cb31b8390369c180aa7fb74d41dd78b77b6c915650260d6d8cc2b732a16f64d  "
      ]
     },
     "execution_count": 4,
     "metadata": {},
     "output_type": "execute_result"
    }
   ],
   "source": [
    "df_zendesk = session.table('zendesk_tickets')\n",
    "df_zendesk.limit(5).toPandas()"
   ]
  },
  {
   "cell_type": "code",
   "execution_count": 5,
   "id": "303b038c",
   "metadata": {},
   "outputs": [],
   "source": [
    "df_zendesk = df_zendesk.toPandas()"
   ]
  },
  {
   "cell_type": "code",
   "execution_count": 6,
   "id": "4ac781b6",
   "metadata": {},
   "outputs": [],
   "source": [
    "# To avoid reading the table multiple times while testing, download the table to local machine and then read the local file\n",
    "\n",
    "# df_zendesk.toPandas().to_csv('zendesk_tickets.csv.gz', header=True, index=False, compression='gzip')\n",
    "# Reading a local file\n",
    "# df_zendesk = pd.read_csv(r\"C:\\Users\\an.jiang\\src\\snowpark_demo\\zendesk_tickets\\zendesk_tickets.csv\", low_memory=False)"
   ]
  },
  {
   "cell_type": "markdown",
   "id": "c6c55737",
   "metadata": {},
   "source": [
    "# Data transformation to extract reviews/comments from raw data\n",
    "This part should be able to be written as Python UDFs for Snowpark DataFrame\n",
    "<br>\n",
    "Here I simply write the transformation process explicitly for simplicity"
   ]
  },
  {
   "cell_type": "markdown",
   "id": "60abb404",
   "metadata": {},
   "source": [
    "## Extract comments, reasons and scores in the SATISFACTION_RATING column"
   ]
  },
  {
   "cell_type": "code",
   "execution_count": 7,
   "id": "cd1ed2a6",
   "metadata": {},
   "outputs": [],
   "source": [
    "rating_dicts = df_zendesk[\"SATISFACTION_RATING\"].apply(json.loads) # Apply json.loads function along each row of the DataFrame(here is PandasSeries)\n",
    "comments, reasons, scores = rating_dicts.apply(lambda x: x.get('comment', np.nan)), rating_dicts.apply(lambda x: x.get('reason', np.nan)), rating_dicts.apply(lambda x: x.get('score', np.nan))"
   ]
  },
  {
   "cell_type": "markdown",
   "id": "ff16db4b",
   "metadata": {},
   "source": [
    "##  Insert them into the DataFrame"
   ]
  },
  {
   "cell_type": "code",
   "execution_count": 8,
   "id": "3b83df6c",
   "metadata": {},
   "outputs": [],
   "source": [
    "insert_index = df_zendesk.columns.get_loc(\"SATISFACTION_RATING\") + 1\n",
    "df_zendesk.insert(insert_index, column=\"SCORE\", value = scores)\n",
    "df_zendesk.insert(insert_index, column=\"REASON\", value = reasons)\n",
    "df_zendesk.insert(insert_index, column=\"COMMENT\", value = comments)"
   ]
  },
  {
   "cell_type": "code",
   "execution_count": 9,
   "id": "5f064eab",
   "metadata": {},
   "outputs": [
    {
     "name": "stdout",
     "output_type": "stream",
     "text": [
      "<class 'pandas.core.frame.DataFrame'>\n",
      "RangeIndex: 2202596 entries, 0 to 2202595\n",
      "Data columns (total 39 columns):\n",
      " #   Column                 Dtype         \n",
      "---  ------                 -----         \n",
      " 0   ID                     int32         \n",
      " 1   URL                    object        \n",
      " 2   EXTERNAL_ID            object        \n",
      " 3   TYPE                   object        \n",
      " 4   SUBJECT                object        \n",
      " 5   RAW_SUBJECT            object        \n",
      " 6   DESCRIPTION            object        \n",
      " 7   PRIORITY               object        \n",
      " 8   STATUS                 object        \n",
      " 9   RECIPIENT              object        \n",
      " 10  REQUESTER_ID           int64         \n",
      " 11  SUBMITTER_ID           int64         \n",
      " 12  ASSIGNEE_ID            float64       \n",
      " 13  ORGANIZATION_ID        float64       \n",
      " 14  GROUP_ID               float64       \n",
      " 15  COLLABORATOR_IDS       object        \n",
      " 16  FOLLOWER_IDS           object        \n",
      " 17  EMAIL_CC_IDS           object        \n",
      " 18  FORUM_TOPIC_ID         float64       \n",
      " 19  PROBLEM_ID             float64       \n",
      " 20  HAS_INCIDENTS          bool          \n",
      " 21  DUE_AT                 datetime64[ns]\n",
      " 22  TAGS                   object        \n",
      " 23  VIA                    object        \n",
      " 24  CUSTOM_FIELDS          object        \n",
      " 25  SATISFACTION_RATING    object        \n",
      " 26  COMMENT                object        \n",
      " 27  REASON                 object        \n",
      " 28  SCORE                  object        \n",
      " 29  SHARING_AGREEMENT_IDS  object        \n",
      " 30  FOLLOWUP_IDS           object        \n",
      " 31  TICKET_FORM_ID         int64         \n",
      " 32  BRAND_ID               int64         \n",
      " 33  ALLOW_CHANNELBACK      bool          \n",
      " 34  ALLOW_ATTACHMENTS      bool          \n",
      " 35  IS_PUBLIC              bool          \n",
      " 36  CREATED_AT             datetime64[ns]\n",
      " 37  UPDATED_AT             datetime64[ns]\n",
      " 38  ROW_CHECKSUM           object        \n",
      "dtypes: bool(4), datetime64[ns](3), float64(5), int32(1), int64(4), object(22)\n",
      "memory usage: 588.2+ MB\n"
     ]
    }
   ],
   "source": [
    "df_zendesk.info()"
   ]
  },
  {
   "cell_type": "markdown",
   "id": "f18b9323",
   "metadata": {},
   "source": [
    "## Filter rows by comment and score columns"
   ]
  },
  {
   "cell_type": "markdown",
   "id": "52adeda6",
   "metadata": {},
   "source": [
    "### By comment - drop rows with no comments"
   ]
  },
  {
   "cell_type": "code",
   "execution_count": 10,
   "id": "b8a819e1",
   "metadata": {},
   "outputs": [],
   "source": [
    "# replace an empty string and whitespaces ((spaces, tabs and new lines)) with nan\n",
    "df_zendesk[\"COMMENT\"].replace(r'^\\s*$', np.nan, regex=True, inplace=True)\n",
    "# Drop rows with no comments\n",
    "df_zendesk.dropna(subset=['COMMENT'], inplace=True)"
   ]
  },
  {
   "cell_type": "code",
   "execution_count": 11,
   "id": "eb60d377",
   "metadata": {},
   "outputs": [
    {
     "data": {
      "text/plain": [
       "(55185, 39)"
      ]
     },
     "execution_count": 11,
     "metadata": {},
     "output_type": "execute_result"
    }
   ],
   "source": [
    "df_zendesk.shape"
   ]
  },
  {
   "cell_type": "markdown",
   "id": "85ec3467",
   "metadata": {},
   "source": [
    "### By Score - turns out that all comments have been labeled \n",
    "\"unoffered\" and \"offered\" labels have no corresponding comments, which means we don't have unlabeled data"
   ]
  },
  {
   "cell_type": "code",
   "execution_count": 12,
   "id": "7d49ce67",
   "metadata": {},
   "outputs": [
    {
     "name": "stdout",
     "output_type": "stream",
     "text": [
      "The unique values for column SCORE are: ['good', 'bad']\n"
     ]
    }
   ],
   "source": [
    "unique_scores = list(df_zendesk['SCORE'].unique())\n",
    "print(\"The unique values for column SCORE are: {}\".format(unique_scores))\n",
    "# The unique values for column SCORE before droppng rows with no comments are:\n",
    "# ['unoffered' 'offered' 'good' 'bad']"
   ]
  },
  {
   "cell_type": "code",
   "execution_count": 13,
   "id": "9b742ecc",
   "metadata": {},
   "outputs": [],
   "source": [
    "# select \"good\" and \"bad\" as two labels for sentiment\n",
    "# \"unoffered\" and \"offered\" do not provide any sentiment information\n",
    "df_zendesk_annotated = df_zendesk.loc[df_zendesk[\"SCORE\"].isin(['good', 'bad'])]"
   ]
  },
  {
   "cell_type": "markdown",
   "id": "6a3dcc7e",
   "metadata": {},
   "source": [
    "### Drop duplicates"
   ]
  },
  {
   "cell_type": "code",
   "execution_count": 14,
   "id": "3a9e0119",
   "metadata": {},
   "outputs": [],
   "source": [
    "# Drop duplicate comments except the first occurence.\n",
    "df_zendesk_annotated.drop_duplicates(subset=['COMMENT'], keep='first', inplace=True)"
   ]
  },
  {
   "cell_type": "markdown",
   "id": "4932c357",
   "metadata": {},
   "source": [
    "### Reset index"
   ]
  },
  {
   "cell_type": "code",
   "execution_count": 15,
   "id": "5c67a8d2",
   "metadata": {},
   "outputs": [],
   "source": [
    "# Reset index\n",
    "df_zendesk_annotated.reset_index(drop=True, inplace=True)"
   ]
  },
  {
   "cell_type": "markdown",
   "id": "95582351",
   "metadata": {},
   "source": [
    "## Select columns"
   ]
  },
  {
   "cell_type": "code",
   "execution_count": 16,
   "id": "0f624de9",
   "metadata": {},
   "outputs": [],
   "source": [
    "# Select columns\n",
    "columns = ['ID', 'TYPE', 'SUBJECT', 'DESCRIPTION', 'PRIORITY', 'COMMENT', 'REASON', 'SCORE', 'CREATED_AT', 'UPDATED_AT']\n",
    "df_zendesk_annotated = df_zendesk_annotated[columns]"
   ]
  },
  {
   "cell_type": "code",
   "execution_count": 19,
   "id": "6e1fd4c6",
   "metadata": {
    "scrolled": false
   },
   "outputs": [
    {
     "name": "stdout",
     "output_type": "stream",
     "text": [
      "<class 'pandas.core.frame.DataFrame'>\n",
      "RangeIndex: 45883 entries, 0 to 45882\n",
      "Data columns (total 10 columns):\n",
      " #   Column       Non-Null Count  Dtype         \n",
      "---  ------       --------------  -----         \n",
      " 0   ID           45883 non-null  int32         \n",
      " 1   TYPE         43042 non-null  object        \n",
      " 2   SUBJECT      45883 non-null  object        \n",
      " 3   DESCRIPTION  45883 non-null  object        \n",
      " 4   PRIORITY     45883 non-null  object        \n",
      " 5   COMMENT      45883 non-null  object        \n",
      " 6   REASON       45883 non-null  object        \n",
      " 7   SCORE        45883 non-null  object        \n",
      " 8   CREATED_AT   45883 non-null  datetime64[ns]\n",
      " 9   UPDATED_AT   45883 non-null  datetime64[ns]\n",
      "dtypes: datetime64[ns](2), int32(1), object(7)\n",
      "memory usage: 3.3+ MB\n"
     ]
    }
   ],
   "source": [
    "df_zendesk_annotated.info(verbose=True)"
   ]
  },
  {
   "cell_type": "code",
   "execution_count": 20,
   "id": "55d11ceb",
   "metadata": {},
   "outputs": [],
   "source": [
    "# Save a local copy for testing purpose\n",
    "df_zendesk_annotated.to_csv(r\"C:\\Users\\an.jiang\\src\\snowpark_demo\\data\\reviews_annotated.csv\", index = False)"
   ]
  },
  {
   "cell_type": "markdown",
   "id": "ceed7ab5",
   "metadata": {},
   "source": [
    "## Turn Pandas DataFrame back to Snowpark DataFrame and save it to a table\n",
    "$\\color{red}{\\text{Somehow datatime64[ns] datatype will convert to int64 when save as a Snowflake table, need to figure out how to specify datatype}}$\n",
    "<br>\n",
    "<font color='green'>Somehow datatime64[ns] datatype will convert to int64 when save as a Snowflake table, need to figure out how to specify datatype</font>"
   ]
  },
  {
   "cell_type": "code",
   "execution_count": 21,
   "id": "1f868804",
   "metadata": {},
   "outputs": [],
   "source": [
    "# # create_dataframe accepts list or pandas dataframe as value\n",
    "# df = session.create_dataframe(df_zendesk_annotated) \n",
    "# # To save the contents of a DataFrame to a table\n",
    "# df.write.mode(\"overwrite\").save_as_table(\"reviews_annotated\")"
   ]
  },
  {
   "cell_type": "markdown",
   "id": "12e52e50",
   "metadata": {},
   "source": [
    "***"
   ]
  },
  {
   "cell_type": "markdown",
   "id": "71adea74",
   "metadata": {},
   "source": [
    "======================================================================================================================"
   ]
  },
  {
   "cell_type": "markdown",
   "id": "c69d70b6",
   "metadata": {},
   "source": [
    "# Explore Historical Data\n",
    "Lets look at the REVIEWS_ANNOTATED table which has the manually annotated sentiment labels for each customer review."
   ]
  },
  {
   "cell_type": "code",
   "execution_count": 33,
   "id": "9bc1b324",
   "metadata": {},
   "outputs": [],
   "source": [
    "# Create a DataFrame from data in a table\n",
    "# df = session.table(\"reviews_annotated\") # Snowpark DataFrame\n",
    "# df.limit(10).toPandas()\n",
    "# df = df.toPandas()\n",
    "\n",
    "df = df_zendesk_annotated"
   ]
  },
  {
   "cell_type": "code",
   "execution_count": 34,
   "id": "d5598e80",
   "metadata": {},
   "outputs": [
    {
     "name": "stdout",
     "output_type": "stream",
     "text": [
      "<class 'pandas.core.frame.DataFrame'>\n",
      "RangeIndex: 45883 entries, 0 to 45882\n",
      "Data columns (total 10 columns):\n",
      " #   Column       Non-Null Count  Dtype         \n",
      "---  ------       --------------  -----         \n",
      " 0   ID           45883 non-null  int32         \n",
      " 1   TYPE         43042 non-null  object        \n",
      " 2   SUBJECT      45883 non-null  object        \n",
      " 3   DESCRIPTION  45883 non-null  object        \n",
      " 4   PRIORITY     45883 non-null  object        \n",
      " 5   COMMENT      45883 non-null  object        \n",
      " 6   REASON       45883 non-null  object        \n",
      " 7   SCORE        45883 non-null  object        \n",
      " 8   CREATED_AT   45883 non-null  datetime64[ns]\n",
      " 9   UPDATED_AT   45883 non-null  datetime64[ns]\n",
      "dtypes: datetime64[ns](2), int32(1), object(7)\n",
      "memory usage: 3.3+ MB\n"
     ]
    }
   ],
   "source": [
    "df.info(verbose=True)"
   ]
  },
  {
   "cell_type": "markdown",
   "id": "caeb1889",
   "metadata": {},
   "source": [
    "# Feature Engineering and Data Pre-Processing Tasks"
   ]
  },
  {
   "cell_type": "markdown",
   "id": "68ccc4e1",
   "metadata": {},
   "source": [
    "### Transform the text-based sentiment into numerical values"
   ]
  },
  {
   "cell_type": "code",
   "execution_count": 35,
   "id": "8bed5c8c",
   "metadata": {},
   "outputs": [],
   "source": [
    "# Create a Python UDF to bin the rating to sentiment\n",
    "def convert_rating(x: str) -> int:\n",
    "    if x == 'good': return 1\n",
    "    elif x == 'bad': return -1"
   ]
  },
  {
   "cell_type": "code",
   "execution_count": 36,
   "id": "36f00a73",
   "metadata": {},
   "outputs": [],
   "source": [
    "sentiment_rating = df[\"SCORE\"].apply(convert_rating)"
   ]
  },
  {
   "cell_type": "code",
   "execution_count": 37,
   "id": "b8ae8652",
   "metadata": {},
   "outputs": [],
   "source": [
    "insert_index = df.columns.get_loc(\"SCORE\") + 1\n",
    "df.insert(insert_index, column=\"SENTIMENT_RATING\", value = sentiment_rating)"
   ]
  },
  {
   "cell_type": "code",
   "execution_count": 38,
   "id": "62c32d40",
   "metadata": {},
   "outputs": [
    {
     "data": {
      "text/html": [
       "<div>\n",
       "<style scoped>\n",
       "    .dataframe tbody tr th:only-of-type {\n",
       "        vertical-align: middle;\n",
       "    }\n",
       "\n",
       "    .dataframe tbody tr th {\n",
       "        vertical-align: top;\n",
       "    }\n",
       "\n",
       "    .dataframe thead th {\n",
       "        text-align: right;\n",
       "    }\n",
       "</style>\n",
       "<table border=\"1\" class=\"dataframe\">\n",
       "  <thead>\n",
       "    <tr style=\"text-align: right;\">\n",
       "      <th></th>\n",
       "      <th>ID</th>\n",
       "      <th>COMMENT</th>\n",
       "      <th>SCORE</th>\n",
       "      <th>SENTIMENT_RATING</th>\n",
       "    </tr>\n",
       "  </thead>\n",
       "  <tbody>\n",
       "    <tr>\n",
       "      <th>0</th>\n",
       "      <td>3280</td>\n",
       "      <td>The tech support was wonderful.  We were able to fix our problem which was actually occurring on our end but without the help of your tech dept, we wouldn't have figured it out.\\r\\nThanks so much!</td>\n",
       "      <td>good</td>\n",
       "      <td>1</td>\n",
       "    </tr>\n",
       "    <tr>\n",
       "      <th>1</th>\n",
       "      <td>7279</td>\n",
       "      <td>Very Professional.  Try to get back to me for day or two, which is cool.  Thank you</td>\n",
       "      <td>good</td>\n",
       "      <td>1</td>\n",
       "    </tr>\n",
       "    <tr>\n",
       "      <th>2</th>\n",
       "      <td>9458</td>\n",
       "      <td>The response time was good and the tip is helpful for current and future students.</td>\n",
       "      <td>good</td>\n",
       "      <td>1</td>\n",
       "    </tr>\n",
       "    <tr>\n",
       "      <th>3</th>\n",
       "      <td>9968</td>\n",
       "      <td>Wendy was very helpful and solved our issue that the teacher/students have been dealing with for the past 14 weeks. Thank you very much!</td>\n",
       "      <td>good</td>\n",
       "      <td>1</td>\n",
       "    </tr>\n",
       "    <tr>\n",
       "      <th>4</th>\n",
       "      <td>14361</td>\n",
       "      <td>Thank you. We will continue to monitor the student.</td>\n",
       "      <td>good</td>\n",
       "      <td>1</td>\n",
       "    </tr>\n",
       "  </tbody>\n",
       "</table>\n",
       "</div>"
      ],
      "text/plain": [
       "      ID  \\\n",
       "0   3280   \n",
       "1   7279   \n",
       "2   9458   \n",
       "3   9968   \n",
       "4  14361   \n",
       "\n",
       "                                                                                                                                                                                                COMMENT  \\\n",
       "0  The tech support was wonderful.  We were able to fix our problem which was actually occurring on our end but without the help of your tech dept, we wouldn't have figured it out.\\r\\nThanks so much!   \n",
       "1                                                                                                                   Very Professional.  Try to get back to me for day or two, which is cool.  Thank you   \n",
       "2                                                                                                                    The response time was good and the tip is helpful for current and future students.   \n",
       "3                                                              Wendy was very helpful and solved our issue that the teacher/students have been dealing with for the past 14 weeks. Thank you very much!   \n",
       "4                                                                                                                                                   Thank you. We will continue to monitor the student.   \n",
       "\n",
       "  SCORE  SENTIMENT_RATING  \n",
       "0  good                 1  \n",
       "1  good                 1  \n",
       "2  good                 1  \n",
       "3  good                 1  \n",
       "4  good                 1  "
      ]
     },
     "execution_count": 38,
     "metadata": {},
     "output_type": "execute_result"
    }
   ],
   "source": [
    "df[[\"ID\", \"COMMENT\", \"SCORE\", \"SENTIMENT_RATING\"]].head()"
   ]
  },
  {
   "cell_type": "markdown",
   "id": "507d79c2",
   "metadata": {},
   "source": [
    "### Stop Word Removal\n",
    "We want to remove text that is relevant for readers but not for our machine learning algorithm. In English for example, this includes punctuation and articles such as a & the - which are typically referred to as stop words. To do this we create a Python UDF and use the spaCy library to process the review text."
   ]
  },
  {
   "cell_type": "code",
   "execution_count": 56,
   "id": "d2c4e305",
   "metadata": {
    "collapsed": true
   },
   "outputs": [
    {
     "name": "stdout",
     "output_type": "stream",
     "text": [
      "{'go', 'once', 'well', 'say', 'six', 'yet', 'none', 'yourselves', 'cannot', 'still', 'up', 'within', \"'ll\", 'seemed', 'wherein', 'own', 'this', 'twenty', 'her', 'using', 'herein', 'his', 'he', 'whereupon', 'if', 'eleven', 'than', 'not', 'whom', 'again', 'from', 'twelve', \"'m\", 'someone', 'me', 'used', 'doing', 'just', 'latterly', 'ten', 'sixty', '‘ve', 'the', 'whenever', 'all', '’d', 'below', 'four', 'whatever', 'seem', 'see', 'however', 'empty', '‘d', 'themselves', 'down', 'further', 'mine', 'among', 'call', 'everywhere', 'five', 'except', 'part', 'much', 'besides', 'itself', 'its', 'thence', 'neither', 'then', 'eight', 'last', 'front', 'another', 'fifteen', 'such', 'only', 'are', 'hereupon', 'beforehand', 'be', 'onto', 'of', 'so', 'elsewhere', 'him', 'whence', 'why', 'ca', 'you', 'wherever', 'but', 'therefore', 'thus', 'in', 'by', 'becoming', 'anyway', 'ourselves', 'yourself', 'whole', 'without', 'perhaps', 'were', 'already', 'amount', 'somehow', \"'re\", 'sometime', 'therein', 'hers', 'on', 'even', 'each', 'for', 'per', 'out', 'both', 'as', 'do', 'mostly', 'some', 'side', '’re', \"'ve\", 'first', \"'d\", 'thereupon', 'noone', 'bottom', 'give', 'might', '‘s', 'with', 'i', 'may', 'whither', 'quite', \"n't\", 'take', 'becomes', 'our', 'around', 'seems', 'together', 'anywhere', 'though', 'myself', 'beyond', 'whereas', 'too', 'please', 'whereafter', 'here', 'a', 'full', 'during', 'whoever', 'former', 'against', 'moreover', 'always', 'three', '’ve', 'their', 'them', 'due', 'every', 'keep', 'being', 'ours', 'no', 'formerly', 'rather', 'towards', 'yours', 'various', 'had', 'make', 'there', 'via', 'because', 'was', 'either', 'serious', 'would', 'third', 'throughout', 'become', 'meanwhile', 'back', 'n’t', 'between', 'behind', 'really', 'an', 'under', 'else', 'that', 'move', 'while', 'could', 'before', 'we', 'when', 'several', 'to', 'any', 'thereby', 'least', 'amongst', 'also', 'hereby', 'across', 'whose', '’s', 'name', 'nevertheless', 'how', \"'s\", 'other', 'never', 'have', 'show', 'after', 'get', 'does', 'nothing', 'same', 'next', 'will', '’ll', 'and', 'herself', 'ever', 'what', 'your', 'can', 'hence', 'many', 'others', 'anyone', 'latter', 'very', '‘re', 'less', 'seeming', 'they', 'been', 'above', 'namely', 'made', 'most', 'became', 'something', 'thereafter', 'nowhere', 'everyone', 'hereafter', 'otherwise', 'two', 'everything', 'put', 'alone', '’m', 'himself', 'must', 'or', 'along', 'us', 'is', 'more', 'until', 'did', 'since', 'where', 'off', 'nor', 'toward', 'should', 'unless', 're', 'top', 'which', 'nobody', 'beside', 'n‘t', 'although', '‘ll', 'my', '‘m', 'hundred', 'one', 'she', 'afterwards', 'through', 'nine', 'over', 'indeed', 'into', 'it', 'few', 'sometimes', 'has', 'at', 'am', 'these', 'anything', 'regarding', 'almost', 'enough', 'somewhere', 'often', 'fifty', 'thru', 'anyhow', 'who', 'whether', 'whereby', 'done', 'those', 'now', 'forty', 'upon', 'about'}\n"
     ]
    }
   ],
   "source": [
    "nlp = spacy.load(\"en_core_web_sm\") # version 3.3.0 same with spaCy\n",
    "stop_words = nlp.Defaults.stop_words\n",
    "print(stop_words)"
   ]
  },
  {
   "cell_type": "code",
   "execution_count": 39,
   "id": "9dab70fc",
   "metadata": {},
   "outputs": [],
   "source": [
    "import spacy\n",
    "\n",
    "def remove_stopwords_vect(raw_text: PandasSeries[str]) -> PandasSeries[str]:\n",
    "    \n",
    "    nlp = spacy.load(\"en_core_web_sm\") # version 3.3.0 same with spaCy\n",
    "    stop_words = nlp.Defaults.stop_words\n",
    "    \n",
    "    result = []\n",
    "    \n",
    "    for s in raw_text:\n",
    "        doc = nlp(s)\n",
    "        text = [str(t.lemma_) for t in doc if \n",
    "                t not in stop_words\n",
    "                and not t.is_punct \n",
    "                and not t.is_currency\n",
    "                and not t.is_space\n",
    "                and t.lemma_ != '-PRON-']\n",
    "        result.append(' '.join(token.lower() for token in text))\n",
    "        \n",
    "    return pandas.Series(result)"
   ]
  },
  {
   "cell_type": "code",
   "execution_count": 40,
   "id": "14e6507c",
   "metadata": {},
   "outputs": [],
   "source": [
    "processed_text = remove_stopwords_vect(df[\"COMMENT\"])"
   ]
  },
  {
   "cell_type": "code",
   "execution_count": 41,
   "id": "f1f40417",
   "metadata": {},
   "outputs": [],
   "source": [
    "insert_index = df.columns.get_loc(\"COMMENT\") + 1\n",
    "df.insert(insert_index, column=\"PROCESSED_TEXT\", value = processed_text)"
   ]
  },
  {
   "cell_type": "markdown",
   "id": "dee81bc7",
   "metadata": {},
   "source": [
    "__remove_stopwords_vect function may produce empty string in the PROCESSED_TEXT column, need to remove the corresponding rows__"
   ]
  },
  {
   "cell_type": "code",
   "execution_count": 42,
   "id": "5a356ad0",
   "metadata": {},
   "outputs": [],
   "source": [
    "# replace an empty string and whitespaces ((spaces, tabs and new lines)) with nan\n",
    "df['PROCESSED_TEXT'].replace(r'^\\s*$', np.nan, regex=True, inplace=True)\n",
    "# Drop rows with no processed text\n",
    "df.dropna(subset=['PROCESSED_TEXT'], inplace=True)"
   ]
  },
  {
   "cell_type": "code",
   "execution_count": 43,
   "id": "64587f13",
   "metadata": {},
   "outputs": [],
   "source": [
    "# select columns for training - select all for now\n",
    "reviews_annotated_df = df\n",
    "# save the processed dataframe to a table (local table for now)\n",
    "reviews_annotated_df.to_csv(r\"C:\\Users\\an.jiang\\src\\snowpark_demo\\data\\reviews_training.csv\", index=False)"
   ]
  },
  {
   "cell_type": "markdown",
   "id": "ec2bde68",
   "metadata": {},
   "source": [
    "---"
   ]
  },
  {
   "cell_type": "markdown",
   "id": "75b14350",
   "metadata": {},
   "source": [
    "=============================================================================================================="
   ]
  },
  {
   "cell_type": "markdown",
   "id": "e8095abc",
   "metadata": {},
   "source": [
    "# Train and Deploy a Sentiment Analysis Model\n",
    "Let's look at how we are able to execute model training inside Snowflake"
   ]
  },
  {
   "cell_type": "markdown",
   "id": "5c6876ba",
   "metadata": {},
   "source": [
    "### Snowpark code for model training"
   ]
  },
  {
   "cell_type": "code",
   "execution_count": 6,
   "id": "9fc9a41c",
   "metadata": {},
   "outputs": [],
   "source": [
    "import numpy as np\n",
    "import sklearn\n",
    "from sklearn.model_selection import train_test_split\n",
    "from sklearn.metrics import accuracy_score\n",
    "from sklearn.linear_model import LogisticRegression\n",
    "from sklearn.feature_extraction.text import CountVectorizer\n",
    "import pickle \n",
    "\n",
    "def train_sentiment_model() -> float:\n",
    "    # retrieve data from processed table\n",
    "    training_file_path = r\"C:\\Users\\an.jiang\\src\\snowpark_demo\\data\\reviews_training.csv\"\n",
    "    df_raw = pd.read_csv(training_file_path)\n",
    "    \n",
    "    # split data\n",
    "    train, test = train_test_split(df_raw, test_size=0.2, random_state=42)\n",
    "    \n",
    "    # vectorize the review text\n",
    "    vectorizer = CountVectorizer(token_pattern=r'\\b\\w+\\b')\n",
    "    train_matrix = vectorizer.fit_transform(train['PROCESSED_TEXT'])\n",
    "    test_matrix = vectorizer.transform(test['PROCESSED_TEXT'])\n",
    "    \n",
    "    #split feature and lable\n",
    "    x_train = train_matrix\n",
    "    x_test = test_matrix\n",
    "    y_train = train['SENTIMENT_RATING']\n",
    "    y_test = test['SENTIMENT_RATING']\n",
    "    \n",
    "    # Regression Model\n",
    "    lr = LogisticRegression(multi_class='multinomial', max_iter=10000)\n",
    "    lr.fit(x_train, y_train)\n",
    "    \n",
    "    predictions = lr.predict(x_test)\n",
    "    \n",
    "    with open(r\"C:\\Users\\an.jiang\\src\\snowpark_demo\\test_models\\sentiment_lr.pickle\",\"wb\") as f:\n",
    "        pickle.dump(lr, f)\n",
    "    with open(r\"C:\\Users\\an.jiang\\src\\snowpark_demo\\test_models\\vectorizer_lr.pickle\",\"wb\") as f:\n",
    "        pickle.dump(vectorizer, f)\n",
    "        \n",
    "#     # Save vectorized embeddings and model files to stage\n",
    "#     save_file(session, lr, '@MODEL_DATA/sentiment_large.pickle')\n",
    "#     save_file(session, vectorizer, '@MODEL_DATA/vectorizer_large.pickle')\n",
    "    \n",
    "    return accuracy_score(y_test, predictions)"
   ]
  },
  {
   "cell_type": "code",
   "execution_count": 7,
   "id": "7a66f2bb",
   "metadata": {},
   "outputs": [
    {
     "data": {
      "text/plain": [
       "0.9196857267568748"
      ]
     },
     "execution_count": 7,
     "metadata": {},
     "output_type": "execute_result"
    }
   ],
   "source": [
    "# run training process\n",
    "train_sentiment_model()"
   ]
  },
  {
   "cell_type": "markdown",
   "id": "2b99021d",
   "metadata": {},
   "source": [
    "# Using the trained model - to predict comments with unoffered and offered ratings\n",
    "Because the current data set has no comments with unoffered and offered tags, we apply pseudo prediction on comments in the training and testing data set for now."
   ]
  },
  {
   "cell_type": "code",
   "execution_count": 2,
   "id": "efa9e193",
   "metadata": {},
   "outputs": [],
   "source": [
    "# Create a vectorized UDF to predict sentiment\n",
    "# session.clear_packages()\n",
    "# session.clear_imports()\n",
    "# session.add_import('@MODEL_DATA/sentiment_large.pickle')\n",
    "# session.add_import('@MODEL_DATA/vectorizer_large.pickle')\n",
    "\n",
    "def predict_sentiment_vector(sentiment_str):\n",
    "    model_file_path = r\"C:\\Users\\an.jiang\\src\\snowpark_demo\\test_models\\sentiment_lr.pickle\"\n",
    "    vector_file_path = r\"C:\\Users\\an.jiang\\src\\snowpark_demo\\test_models\\vectorizer_lr.pickle\"\n",
    "\n",
    "    with open(model_file_path, 'rb') as fm:\n",
    "        model = pickle.load(fm)\n",
    "        \n",
    "    with open(vector_file_path, 'rb') as fv:\n",
    "        vectorizer = pickle.load(fv)\n",
    "        \n",
    "    result = []\n",
    "    \n",
    "    for s in sentiment_str:\n",
    "        matrix = vectorizer.transform([s])\n",
    "        \n",
    "        df= pd.DataFrame(model.predict_proba(matrix), columns=('NEGATIVE', 'POSITIVE'))\n",
    "        \n",
    "        response = df.loc[0].to_json()\n",
    "        result.append(json.loads(response))\n",
    "\n",
    "    return pandas.Series(result)"
   ]
  },
  {
   "cell_type": "markdown",
   "id": "f4d14d8f",
   "metadata": {},
   "source": [
    "### Let's score new reviews that have been pre-processed to get the sentiment scores"
   ]
  },
  {
   "cell_type": "code",
   "execution_count": 3,
   "id": "cf771225",
   "metadata": {},
   "outputs": [],
   "source": [
    "# Load new preprocessed reviews\n",
    "new_processed_reviews_path = r\"C:\\Users\\an.jiang\\src\\snowpark_demo\\data\\reviews_training.csv\"\n",
    "parse_dates = ['CREATED_AT', 'UPDATED_AT']\n",
    "df_new_reviews = pd.read_csv(new_processed_reviews_path, parse_dates=parse_dates)\n",
    "# make predictions on new reviews\n",
    "sentiment = predict_sentiment_vector(df_new_reviews[\"PROCESSED_TEXT\"])\n",
    "negative = sentiment.apply(lambda x: x[\"NEGATIVE\"])\n",
    "positive = sentiment.apply(lambda x: x[\"POSITIVE\"])\n",
    "# Add sentiment to the dataframe\n",
    "insert_index = df_new_reviews.columns.get_loc(\"PROCESSED_TEXT\") + 1\n",
    "df_new_reviews.insert(insert_index, column=\"POSITIVE\", value = positive)\n",
    "df_new_reviews.insert(insert_index, column=\"NEGATIVE\", value = negative)"
   ]
  },
  {
   "cell_type": "markdown",
   "id": "fc2e0644",
   "metadata": {},
   "source": [
    "# Using spacytextblob library to get positive and negative words from comments \n",
    "$\\color{red}{\\text{Snowflake Anaconda channel doesn't support spacytextblob yet, we may submit a request}}$"
   ]
  },
  {
   "cell_type": "code",
   "execution_count": 4,
   "id": "7342288e",
   "metadata": {},
   "outputs": [],
   "source": [
    "import spacy\n",
    "from spacytextblob.spacytextblob import SpacyTextBlob\n",
    "\n",
    "\n",
    "def get_pos_neg_words(sentiment_str: PandasSeries[str]) -> PandasSeries[str]:\n",
    "    # load a spaCy model, depending on language, scale, etc.\n",
    "    nlp = spacy.load('en_core_web_sm')\n",
    "    # add TextBlob to the spaCy pipeline\n",
    "    nlp.add_pipe('spacytextblob')\n",
    "    \n",
    "    total_pos = []\n",
    "    total_neg = []\n",
    "    for text in sentiment_str:\n",
    "        positive_words = []\n",
    "        negative_words = []\n",
    "        \n",
    "        doc = nlp(text)\n",
    "\n",
    "        for x in doc._.blob.sentiment_assessments.assessments:\n",
    "            if x[1] > 0:\n",
    "                positive_words.extend(x[0])\n",
    "            elif x[1] < 0:\n",
    "                negative_words.extend(x[0])\n",
    "            else:\n",
    "                pass\n",
    "\n",
    "        total_pos.append(', '.join(set(positive_words)))\n",
    "        total_neg.append(', '.join(set(negative_words)))\n",
    "        \n",
    "    return pandas.Series(total_pos), pandas.Series(total_neg)"
   ]
  },
  {
   "cell_type": "code",
   "execution_count": 5,
   "id": "331ea81e",
   "metadata": {},
   "outputs": [],
   "source": [
    "# get positive and negative words from new reviews\n",
    "positive_words_vect, negative_words_vect = get_pos_neg_words(df_new_reviews[\"PROCESSED_TEXT\"])\n",
    "# Add positive and negative words to the dataframe\n",
    "insert_index = df_new_reviews.columns.get_loc(\"POSITIVE\") + 1\n",
    "df_new_reviews.insert(insert_index, column=\"POSITIVE_WORDS\", value = positive_words_vect)\n",
    "df_new_reviews.insert(insert_index, column=\"NEGATIVE_WORDS\", value = negative_words_vect)"
   ]
  },
  {
   "cell_type": "markdown",
   "id": "393db7f1",
   "metadata": {},
   "source": [
    "# Using pytextrank library to extract key phrases from comments \n",
    "$\\color{red}{\\text{Snowflake Anaconda channel doesn't support pytextrank yet, we may submit a request}}$"
   ]
  },
  {
   "cell_type": "code",
   "execution_count": 6,
   "id": "2101ac43",
   "metadata": {},
   "outputs": [],
   "source": [
    "import spacy\n",
    "import pytextrank\n",
    "\n",
    "def extract_key_phrases(sentiment_str: PandasSeries[str]) -> PandasSeries[str]:\n",
    "    # load a spaCy model, depending on language, scale, etc.\n",
    "    nlp = spacy.load(\"en_core_web_sm\")\n",
    "    # add PyTextRank to the spaCy pipeline\n",
    "    nlp.add_pipe(\"textrank\")\n",
    "    \n",
    "    res = []\n",
    "    for text in sentiment_str:\n",
    "        doc = nlp(text)\n",
    "        # examine the top-ranked phrases in the document\n",
    "        key_phrases = [phrase.text for phrase in doc._.phrases]\n",
    "        res.append(', '.join(key_phrases))    \n",
    "    return pandas.Series(res)"
   ]
  },
  {
   "cell_type": "code",
   "execution_count": 7,
   "id": "a27f4a04",
   "metadata": {},
   "outputs": [],
   "source": [
    "# Extract key phrases from new reviews\n",
    "key_phrases_vect = extract_key_phrases(df_new_reviews[\"PROCESSED_TEXT\"])\n",
    "# Add key phrases to the dataframe\n",
    "insert_index = df_new_reviews.columns.get_loc(\"POSITIVE_WORDS\") + 1\n",
    "df_new_reviews.insert(insert_index, column=\"KEY_PHRASES\", value = key_phrases_vect)"
   ]
  },
  {
   "cell_type": "markdown",
   "id": "50524c26",
   "metadata": {},
   "source": [
    "# Spacy in-build keyphrase extraction"
   ]
  },
  {
   "cell_type": "code",
   "execution_count": 19,
   "id": "05c1e270",
   "metadata": {},
   "outputs": [],
   "source": [
    "import spacy\n",
    "from collections import Counter\n",
    "from string import punctuation\n",
    "nlp = spacy.load(\"en_core_web_sm\")\n",
    "\n",
    "def extract_key_phrases(sentiment_str: PandasSeries[str]) -> PandasSeries[str]:    \n",
    "    res = []\n",
    "    pos_tag = ['PROPN', 'ADJ', 'NOUN']\n",
    "    for text in sentiment_str:\n",
    "        words = []\n",
    "        doc = nlp(text)\n",
    "        for token in doc:\n",
    "            if(token.text in nlp.Defaults.stop_words or token.text in punctuation):\n",
    "                continue\n",
    "            if(token.pos_ in pos_tag):\n",
    "                words.append(token.text)\n",
    "        most_common_list = Counter(words).most_common(5)\n",
    "        res.append(', '.join([item[0] for item in most_common_list]))   \n",
    "    return pandas.Series(res)"
   ]
  },
  {
   "cell_type": "code",
   "execution_count": 20,
   "id": "d8f7342c",
   "metadata": {},
   "outputs": [],
   "source": [
    "# Extract key phrases from new reviews\n",
    "key_phrases_vect = extract_key_phrases(df_new_reviews[\"PROCESSED_TEXT\"])\n",
    "# Add key phrases to the dataframe\n",
    "insert_index = df_new_reviews.columns.get_loc(\"POSITIVE_WORDS\") + 1\n",
    "df_new_reviews.insert(insert_index, column=\"KEY_PHRASES_spacy\", value = key_phrases_vect)"
   ]
  },
  {
   "cell_type": "code",
   "execution_count": 22,
   "id": "07a20d7a",
   "metadata": {
    "collapsed": true
   },
   "outputs": [
    {
     "data": {
      "text/html": [
       "<div>\n",
       "<style scoped>\n",
       "    .dataframe tbody tr th:only-of-type {\n",
       "        vertical-align: middle;\n",
       "    }\n",
       "\n",
       "    .dataframe tbody tr th {\n",
       "        vertical-align: top;\n",
       "    }\n",
       "\n",
       "    .dataframe thead th {\n",
       "        text-align: right;\n",
       "    }\n",
       "</style>\n",
       "<table border=\"1\" class=\"dataframe\">\n",
       "  <thead>\n",
       "    <tr style=\"text-align: right;\">\n",
       "      <th></th>\n",
       "      <th>ID</th>\n",
       "      <th>TYPE</th>\n",
       "      <th>SUBJECT</th>\n",
       "      <th>DESCRIPTION</th>\n",
       "      <th>PRIORITY</th>\n",
       "      <th>COMMENT</th>\n",
       "      <th>PROCESSED_TEXT</th>\n",
       "      <th>NEGATIVE</th>\n",
       "      <th>POSITIVE</th>\n",
       "      <th>NEGATIVE_WORDS</th>\n",
       "      <th>POSITIVE_WORDS</th>\n",
       "      <th>KEY_PHRASES_spacy</th>\n",
       "      <th>KEY_PHRASES</th>\n",
       "      <th>ENTITIES</th>\n",
       "      <th>REASON</th>\n",
       "      <th>SCORE</th>\n",
       "      <th>SENTIMENT_RATING</th>\n",
       "      <th>CREATED_AT</th>\n",
       "      <th>UPDATED_AT</th>\n",
       "    </tr>\n",
       "  </thead>\n",
       "  <tbody>\n",
       "    <tr>\n",
       "      <th>0</th>\n",
       "      <td>3280</td>\n",
       "      <td>question</td>\n",
       "      <td>Re: French 1 program</td>\n",
       "      <td>Hi Cindi,\\n\\nLet me copy Mary on email and also support to get with you ASAP.\\n\\nTerry\\n\\nSent from my iPhone\\n\\nOn Feb 7, 2018, at 1:43 PM, Cindi Bordelon &lt;cbordelon@nederlandisd.org&lt;mailto:cbordelon@nederlandisd.org&gt;&gt; wrote:\\n\\nHello Terry - we are having problems with the speaking portion of our French 1 Power Speak course.  Could you direct me on who we need to contact for help.  The program won't let the kids record themselves in any of the lessons all of a sudden.\\nThank you,\\nCindi\\n\\...</td>\n",
       "      <td>normal</td>\n",
       "      <td>The tech support was wonderful.  We were able to fix our problem which was actually occurring on our end but without the help of your tech dept, we wouldn't have figured it out.\\r\\nThanks so much!</td>\n",
       "      <td>the tech support be wonderful we be able to fix our problem which be actually occur on our end but without the help of your tech dept we would not have figure it out thank so much</td>\n",
       "      <td>0.000146</td>\n",
       "      <td>0.999854</td>\n",
       "      <td></td>\n",
       "      <td>much, wonderful, able</td>\n",
       "      <td>tech, support, wonderful, able, problem</td>\n",
       "      <td>your tech dept, the help, our end, our problem, the tech support, it, we, which</td>\n",
       "      <td></td>\n",
       "      <td>No reason provided</td>\n",
       "      <td>good</td>\n",
       "      <td>1</td>\n",
       "      <td>2018-02-07 19:56:26</td>\n",
       "      <td>2018-02-14 20:01:14</td>\n",
       "    </tr>\n",
       "    <tr>\n",
       "      <th>1</th>\n",
       "      <td>7279</td>\n",
       "      <td>question</td>\n",
       "      <td>Unable to load link</td>\n",
       "      <td>This issue was reported from LMS\\Educator.\\r\\nDistrict ID = 10233\\r\\nSchool ID = 35973\\r\\nSchool Name = TURNER HIGH SCHOOL\\r\\nTeacher User ID = 325098757\\r\\nPhone = \\r\\nSession ID = 17460294\\r\\nStudent Name = Antonio Hernandez\\r\\nStudent User ID = 325140455\\r\\nCourse Name = TUSD Note Taking \\r\\nCourse ID = 13e3f7fd-c8a3-4221-abbe-5b2eae929d4c\\r\\nCourse Node ID = 3cbee072-8b26-4275-a7c2-7fe9a3d7a6f5\\r\\nActivity = TUSD Note Taking  &gt; Taking High Quality Notes &gt; Compare and Contrast Graphic Org...</td>\n",
       "      <td>normal</td>\n",
       "      <td>Very Professional.  Try to get back to me for day or two, which is cool.  Thank you</td>\n",
       "      <td>very professional try to get back to i for day or two which be cool thank you</td>\n",
       "      <td>0.000281</td>\n",
       "      <td>0.999719</td>\n",
       "      <td></td>\n",
       "      <td>very, professional, cool</td>\n",
       "      <td>professional, try, day, cool</td>\n",
       "      <td>day, very professional try, i, two, which, you</td>\n",
       "      <td>day | DATE, two | CARDINAL</td>\n",
       "      <td>No reason provided</td>\n",
       "      <td>good</td>\n",
       "      <td>1</td>\n",
       "      <td>2018-02-23 17:52:06</td>\n",
       "      <td>2018-03-24 17:02:03</td>\n",
       "    </tr>\n",
       "    <tr>\n",
       "      <th>2</th>\n",
       "      <td>9458</td>\n",
       "      <td>question</td>\n",
       "      <td>Cant move forward</td>\n",
       "      <td>This issue was reported from LMS\\Educator.\\r\\nDistrict ID = 7359\\r\\nSchool ID = 23280\\r\\nSchool Name = TAMPA BAY TECHNICAL HIGH SCHOOL\\r\\nTeacher User ID = 8883358\\r\\nPhone = 813-545-1678\\r\\nSession ID = 17493555\\r\\nStudent Name = JADA CAMPBELL\\r\\nStudent User ID = 4755237\\r\\nCourse Name = NEW 2017-18 FL-1207300-Liberal Arts Mathematics 1 Sem 1 Credit Recovery\\r\\nCourse ID = 2afe0174-e5c9-4551-a3e4-5cc1cee37b46\\r\\nCourse Node ID = 1278521d-bdeb-e511-80c3-ecf4bbc39c64\\r\\nActivity = NEW 2017-1...</td>\n",
       "      <td>normal</td>\n",
       "      <td>The response time was good and the tip is helpful for current and future students.</td>\n",
       "      <td>the response time be good and the tip be helpful for current and future student</td>\n",
       "      <td>0.003221</td>\n",
       "      <td>0.996779</td>\n",
       "      <td></td>\n",
       "      <td>good</td>\n",
       "      <td>response, time, good, tip, helpful</td>\n",
       "      <td>current and future student, the response time, the tip</td>\n",
       "      <td></td>\n",
       "      <td>No reason provided</td>\n",
       "      <td>good</td>\n",
       "      <td>1</td>\n",
       "      <td>2018-03-05 17:35:52</td>\n",
       "      <td>2018-03-09 19:01:04</td>\n",
       "    </tr>\n",
       "    <tr>\n",
       "      <th>3</th>\n",
       "      <td>9968</td>\n",
       "      <td>question</td>\n",
       "      <td>Student's having to restart their assignments from the beginning</td>\n",
       "      <td>Call from: +1 (844) 632-5682\\nTime of call: March 06, 2018 02:24:55 PM\\nAnswered by: Wendy Reyes</td>\n",
       "      <td>normal</td>\n",
       "      <td>Wendy was very helpful and solved our issue that the teacher/students have been dealing with for the past 14 weeks. Thank you very much!</td>\n",
       "      <td>wendy be very helpful and solve our issue that the teacher student have be deal with for the past 14 week thank you very much</td>\n",
       "      <td>0.010145</td>\n",
       "      <td>0.989855</td>\n",
       "      <td>past</td>\n",
       "      <td>very, much</td>\n",
       "      <td>wendy, helpful, issue, teacher, student</td>\n",
       "      <td>the teacher student, the past 14 week, wendy, our issue, you</td>\n",
       "      <td>wendy | PERSON, the past 14 week | DATE</td>\n",
       "      <td>No reason provided</td>\n",
       "      <td>good</td>\n",
       "      <td>1</td>\n",
       "      <td>2018-03-06 21:25:42</td>\n",
       "      <td>2018-03-20 19:01:15</td>\n",
       "    </tr>\n",
       "    <tr>\n",
       "      <th>4</th>\n",
       "      <td>14361</td>\n",
       "      <td>question</td>\n",
       "      <td>Unable to progress</td>\n",
       "      <td>This issue was reported from LMS\\Educator.\\r\\nDistrict ID = 178\\r\\nSchool ID = 19244\\r\\nSchool Name = WYOMING VALLEY WEST\\r\\nTeacher User ID = 2725938\\r\\nPhone = \\r\\nSession ID = 25291143\\r\\nStudent Name = Charles Heckman\\r\\nStudent User ID = 335221809\\r\\nCourse Name = WVWhs 4210 Biology 3rd 9 Weeks 2017-18 (Mr. Potera)\\r\\nCourse ID = ee8ca7f9-c7a0-41f8-a279-102588da42d7\\r\\nCourse Node ID = 7da6e035-afe0-4167-8e5c-dbe11cfe0535\\r\\nActivity = WVWhs 4210 Biology 3rd 9 Weeks 2017-18 (Mr. Potera)...</td>\n",
       "      <td>normal</td>\n",
       "      <td>Thank you. We will continue to monitor the student.</td>\n",
       "      <td>thank you we will continue to monitor the student</td>\n",
       "      <td>0.033428</td>\n",
       "      <td>0.966572</td>\n",
       "      <td></td>\n",
       "      <td></td>\n",
       "      <td>student</td>\n",
       "      <td>the student, we, you</td>\n",
       "      <td></td>\n",
       "      <td>No reason provided</td>\n",
       "      <td>good</td>\n",
       "      <td>1</td>\n",
       "      <td>2018-03-27 14:22:59</td>\n",
       "      <td>2018-03-31 17:02:20</td>\n",
       "    </tr>\n",
       "    <tr>\n",
       "      <th>...</th>\n",
       "      <td>...</td>\n",
       "      <td>...</td>\n",
       "      <td>...</td>\n",
       "      <td>...</td>\n",
       "      <td>...</td>\n",
       "      <td>...</td>\n",
       "      <td>...</td>\n",
       "      <td>...</td>\n",
       "      <td>...</td>\n",
       "      <td>...</td>\n",
       "      <td>...</td>\n",
       "      <td>...</td>\n",
       "      <td>...</td>\n",
       "      <td>...</td>\n",
       "      <td>...</td>\n",
       "      <td>...</td>\n",
       "      <td>...</td>\n",
       "      <td>...</td>\n",
       "      <td>...</td>\n",
       "    </tr>\n",
       "    <tr>\n",
       "      <th>95</th>\n",
       "      <td>242912</td>\n",
       "      <td>question</td>\n",
       "      <td>Chat with Amelia Kearl</td>\n",
       "      <td>Chat started: 2019-10-17 05:21 PM UTC\\nServed by: Ms Stone\\n\\nIP: 67.186.234.38\\nUser Agent: Mozilla/5.0 (Windows NT 10.0; Win64; x64) AppleWebKit/537.36 (KHTML, like Gecko) Chrome/77.0.3865.120 Safari/537.36\\nCountry: United States\\nCity: Brigham City\\nURL: https://r03.core.learn.edgenuity.com/Player/\\n\\nChat ID: 1910.1801676.RfBAf28laRpab\\n\\nThe chat transcript will be appended when the agent or visitor leaves the chat.</td>\n",
       "      <td>normal</td>\n",
       "      <td>It took a while for her to actually help me. Most of her comments weren't super helpful. It probably took like 10 minutes until her comments helped me with my question. \\n</td>\n",
       "      <td>it take a while for she to actually help i most of her comment be not super helpful it probably take like 10 minute until her comment help i with my question</td>\n",
       "      <td>0.000047</td>\n",
       "      <td>0.999953</td>\n",
       "      <td>super, not</td>\n",
       "      <td>most</td>\n",
       "      <td>comment, helpful, minute, question</td>\n",
       "      <td>her comment, my question, 10 minute, like 10 minute, a while, i, it, she</td>\n",
       "      <td>10 minute | TIME</td>\n",
       "      <td>No reason provided</td>\n",
       "      <td>good</td>\n",
       "      <td>1</td>\n",
       "      <td>2019-10-17 17:21:28</td>\n",
       "      <td>2019-10-21 19:06:59</td>\n",
       "    </tr>\n",
       "    <tr>\n",
       "      <th>96</th>\n",
       "      <td>243145</td>\n",
       "      <td>question</td>\n",
       "      <td>Chat with Jewleea Talbert</td>\n",
       "      <td>Chat started: 2019-10-17 06:57 PM UTC\\nServed by: Bobby\\n\\nIP: 70.167.236.52\\nUser Agent: Mozilla/5.0 (X11; CrOS x86_64 11151.113.0) AppleWebKit/537.36 (KHTML, like Gecko) Chrome/71.0.3578.127 Safari/537.36\\nCountry: United States\\nCity: Gulf Breeze\\nURL: https://r14.core.learn.edgenuity.com/Player/\\n\\nChat ID: 1910.1801676.RfBYkiAjGc2t8\\n\\nThe chat transcript will be appended when the agent or visitor leaves the chat.</td>\n",
       "      <td>normal</td>\n",
       "      <td>She helped me with a lot of Language Arts today and I highly appreciate it.\\n</td>\n",
       "      <td>she help i with a lot of language arts today and i highly appreciate it</td>\n",
       "      <td>0.010716</td>\n",
       "      <td>0.989284</td>\n",
       "      <td></td>\n",
       "      <td>highly</td>\n",
       "      <td>lot, language, arts, today</td>\n",
       "      <td>language arts, a lot, i, it, she</td>\n",
       "      <td></td>\n",
       "      <td>No reason provided</td>\n",
       "      <td>good</td>\n",
       "      <td>1</td>\n",
       "      <td>2019-10-17 19:00:40</td>\n",
       "      <td>2019-10-21 21:04:49</td>\n",
       "    </tr>\n",
       "    <tr>\n",
       "      <th>97</th>\n",
       "      <td>244124</td>\n",
       "      <td>question</td>\n",
       "      <td>Attendance Log</td>\n",
       "      <td>Call from: +1 (361) 552-6133\\nTime of call: October 18, 2019 at 6:11:37 PM\\nAnswered by: Monica Cantymagli</td>\n",
       "      <td>normal</td>\n",
       "      <td>Excellent service!</td>\n",
       "      <td>excellent service</td>\n",
       "      <td>0.007408</td>\n",
       "      <td>0.992592</td>\n",
       "      <td></td>\n",
       "      <td>excellent</td>\n",
       "      <td>excellent, service</td>\n",
       "      <td>excellent service</td>\n",
       "      <td></td>\n",
       "      <td>No reason provided</td>\n",
       "      <td>good</td>\n",
       "      <td>1</td>\n",
       "      <td>2019-10-18 18:12:41</td>\n",
       "      <td>2019-10-22 19:05:13</td>\n",
       "    </tr>\n",
       "    <tr>\n",
       "      <th>98</th>\n",
       "      <td>244820</td>\n",
       "      <td>question</td>\n",
       "      <td>Chat with Patrick Runyon</td>\n",
       "      <td>Chat started: 2019-10-21 02:17 PM UTC\\nServed by: Tutor- Carli \\n\\nIP: 50.73.165.213\\nUser Agent: Mozilla/5.0 (X11; CrOS aarch64 12371.75.0) AppleWebKit/537.36 (KHTML, like Gecko) Chrome/77.0.3865.105 Safari/537.36\\nCountry: United States\\nCity: McKeesport\\nURL: https://r08.core.learn.edgenuity.com/Player/\\n\\nChat ID: 1910.1801676.RfXoOkFdVcMrG\\n\\nThe chat transcript will be appended when the agent or visitor leaves the chat.</td>\n",
       "      <td>normal</td>\n",
       "      <td>she is so amazing she helps me learn alot and she keeeps my spirit up when i am in a bad mood</td>\n",
       "      <td>she be so amazing she help i learn alot and she keeep my spirit up when i be in a bad mood</td>\n",
       "      <td>0.011949</td>\n",
       "      <td>0.988051</td>\n",
       "      <td>bad</td>\n",
       "      <td>amazing</td>\n",
       "      <td>amazing, alot, spirit, bad, mood</td>\n",
       "      <td>alot, a bad mood, my spirit, i, she</td>\n",
       "      <td></td>\n",
       "      <td>No reason provided</td>\n",
       "      <td>good</td>\n",
       "      <td>1</td>\n",
       "      <td>2019-10-21 14:23:41</td>\n",
       "      <td>2019-10-25 16:05:47</td>\n",
       "    </tr>\n",
       "    <tr>\n",
       "      <th>99</th>\n",
       "      <td>247112</td>\n",
       "      <td>question</td>\n",
       "      <td>Chat with Kathryn Muscarella</td>\n",
       "      <td>Chat started: 2019-10-22 10:55 PM UTC\\nServed by: Mr. Nick\\n\\nIP: 66.108.137.127\\nUser Agent: Mozilla/5.0 (Windows NT 10.0; Win64; x64) AppleWebKit/537.36 (KHTML, like Gecko) Chrome/77.0.3865.120 Safari/537.36\\nCountry: United States\\nCity: New York\\nURL: https://r22.core.learn.edgenuity.com/Player/\\n\\nChat ID: 1910.1801676.RfflJJdxqZbNy\\n\\nThe chat transcript will be appended when the agent or visitor leaves the chat.</td>\n",
       "      <td>normal</td>\n",
       "      <td>Very helpful!</td>\n",
       "      <td>very helpful</td>\n",
       "      <td>0.025610</td>\n",
       "      <td>0.974390</td>\n",
       "      <td></td>\n",
       "      <td>very</td>\n",
       "      <td>helpful</td>\n",
       "      <td></td>\n",
       "      <td></td>\n",
       "      <td>No reason provided</td>\n",
       "      <td>good</td>\n",
       "      <td>1</td>\n",
       "      <td>2019-10-22 22:58:59</td>\n",
       "      <td>2019-10-27 01:03:26</td>\n",
       "    </tr>\n",
       "  </tbody>\n",
       "</table>\n",
       "<p>100 rows × 19 columns</p>\n",
       "</div>"
      ],
      "text/plain": [
       "        ID      TYPE  \\\n",
       "0     3280  question   \n",
       "1     7279  question   \n",
       "2     9458  question   \n",
       "3     9968  question   \n",
       "4    14361  question   \n",
       "..     ...       ...   \n",
       "95  242912  question   \n",
       "96  243145  question   \n",
       "97  244124  question   \n",
       "98  244820  question   \n",
       "99  247112  question   \n",
       "\n",
       "                                                              SUBJECT  \\\n",
       "0                                                Re: French 1 program   \n",
       "1                                                 Unable to load link   \n",
       "2                                                  Cant move forward    \n",
       "3   Student's having to restart their assignments from the beginning    \n",
       "4                                                  Unable to progress   \n",
       "..                                                                ...   \n",
       "95                                             Chat with Amelia Kearl   \n",
       "96                                          Chat with Jewleea Talbert   \n",
       "97                                                     Attendance Log   \n",
       "98                                           Chat with Patrick Runyon   \n",
       "99                                       Chat with Kathryn Muscarella   \n",
       "\n",
       "                                                                                                                                                                                                                                                                                                                                                                                                                                                                                                            DESCRIPTION  \\\n",
       "0   Hi Cindi,\\n\\nLet me copy Mary on email and also support to get with you ASAP.\\n\\nTerry\\n\\nSent from my iPhone\\n\\nOn Feb 7, 2018, at 1:43 PM, Cindi Bordelon <cbordelon@nederlandisd.org<mailto:cbordelon@nederlandisd.org>> wrote:\\n\\nHello Terry - we are having problems with the speaking portion of our French 1 Power Speak course.  Could you direct me on who we need to contact for help.  The program won't let the kids record themselves in any of the lessons all of a sudden.\\nThank you,\\nCindi\\n\\...   \n",
       "1   This issue was reported from LMS\\Educator.\\r\\nDistrict ID = 10233\\r\\nSchool ID = 35973\\r\\nSchool Name = TURNER HIGH SCHOOL\\r\\nTeacher User ID = 325098757\\r\\nPhone = \\r\\nSession ID = 17460294\\r\\nStudent Name = Antonio Hernandez\\r\\nStudent User ID = 325140455\\r\\nCourse Name = TUSD Note Taking \\r\\nCourse ID = 13e3f7fd-c8a3-4221-abbe-5b2eae929d4c\\r\\nCourse Node ID = 3cbee072-8b26-4275-a7c2-7fe9a3d7a6f5\\r\\nActivity = TUSD Note Taking  > Taking High Quality Notes > Compare and Contrast Graphic Org...   \n",
       "2   This issue was reported from LMS\\Educator.\\r\\nDistrict ID = 7359\\r\\nSchool ID = 23280\\r\\nSchool Name = TAMPA BAY TECHNICAL HIGH SCHOOL\\r\\nTeacher User ID = 8883358\\r\\nPhone = 813-545-1678\\r\\nSession ID = 17493555\\r\\nStudent Name = JADA CAMPBELL\\r\\nStudent User ID = 4755237\\r\\nCourse Name = NEW 2017-18 FL-1207300-Liberal Arts Mathematics 1 Sem 1 Credit Recovery\\r\\nCourse ID = 2afe0174-e5c9-4551-a3e4-5cc1cee37b46\\r\\nCourse Node ID = 1278521d-bdeb-e511-80c3-ecf4bbc39c64\\r\\nActivity = NEW 2017-1...   \n",
       "3                                                                                                                                                                                                                                                                                                                                                                                                                      Call from: +1 (844) 632-5682\\nTime of call: March 06, 2018 02:24:55 PM\\nAnswered by: Wendy Reyes   \n",
       "4   This issue was reported from LMS\\Educator.\\r\\nDistrict ID = 178\\r\\nSchool ID = 19244\\r\\nSchool Name = WYOMING VALLEY WEST\\r\\nTeacher User ID = 2725938\\r\\nPhone = \\r\\nSession ID = 25291143\\r\\nStudent Name = Charles Heckman\\r\\nStudent User ID = 335221809\\r\\nCourse Name = WVWhs 4210 Biology 3rd 9 Weeks 2017-18 (Mr. Potera)\\r\\nCourse ID = ee8ca7f9-c7a0-41f8-a279-102588da42d7\\r\\nCourse Node ID = 7da6e035-afe0-4167-8e5c-dbe11cfe0535\\r\\nActivity = WVWhs 4210 Biology 3rd 9 Weeks 2017-18 (Mr. Potera)...   \n",
       "..                                                                                                                                                                                                                                                                                                                                                                                                                                                                                                                  ...   \n",
       "95                                                                            Chat started: 2019-10-17 05:21 PM UTC\\nServed by: Ms Stone\\n\\nIP: 67.186.234.38\\nUser Agent: Mozilla/5.0 (Windows NT 10.0; Win64; x64) AppleWebKit/537.36 (KHTML, like Gecko) Chrome/77.0.3865.120 Safari/537.36\\nCountry: United States\\nCity: Brigham City\\nURL: https://r03.core.learn.edgenuity.com/Player/\\n\\nChat ID: 1910.1801676.RfBAf28laRpab\\n\\nThe chat transcript will be appended when the agent or visitor leaves the chat.   \n",
       "96                                                                               Chat started: 2019-10-17 06:57 PM UTC\\nServed by: Bobby\\n\\nIP: 70.167.236.52\\nUser Agent: Mozilla/5.0 (X11; CrOS x86_64 11151.113.0) AppleWebKit/537.36 (KHTML, like Gecko) Chrome/71.0.3578.127 Safari/537.36\\nCountry: United States\\nCity: Gulf Breeze\\nURL: https://r14.core.learn.edgenuity.com/Player/\\n\\nChat ID: 1910.1801676.RfBYkiAjGc2t8\\n\\nThe chat transcript will be appended when the agent or visitor leaves the chat.   \n",
       "97                                                                                                                                                                                                                                                                                                                                                                                                           Call from: +1 (361) 552-6133\\nTime of call: October 18, 2019 at 6:11:37 PM\\nAnswered by: Monica Cantymagli   \n",
       "98                                                                        Chat started: 2019-10-21 02:17 PM UTC\\nServed by: Tutor- Carli \\n\\nIP: 50.73.165.213\\nUser Agent: Mozilla/5.0 (X11; CrOS aarch64 12371.75.0) AppleWebKit/537.36 (KHTML, like Gecko) Chrome/77.0.3865.105 Safari/537.36\\nCountry: United States\\nCity: McKeesport\\nURL: https://r08.core.learn.edgenuity.com/Player/\\n\\nChat ID: 1910.1801676.RfXoOkFdVcMrG\\n\\nThe chat transcript will be appended when the agent or visitor leaves the chat.   \n",
       "99                                                                               Chat started: 2019-10-22 10:55 PM UTC\\nServed by: Mr. Nick\\n\\nIP: 66.108.137.127\\nUser Agent: Mozilla/5.0 (Windows NT 10.0; Win64; x64) AppleWebKit/537.36 (KHTML, like Gecko) Chrome/77.0.3865.120 Safari/537.36\\nCountry: United States\\nCity: New York\\nURL: https://r22.core.learn.edgenuity.com/Player/\\n\\nChat ID: 1910.1801676.RfflJJdxqZbNy\\n\\nThe chat transcript will be appended when the agent or visitor leaves the chat.   \n",
       "\n",
       "   PRIORITY  \\\n",
       "0    normal   \n",
       "1    normal   \n",
       "2    normal   \n",
       "3    normal   \n",
       "4    normal   \n",
       "..      ...   \n",
       "95   normal   \n",
       "96   normal   \n",
       "97   normal   \n",
       "98   normal   \n",
       "99   normal   \n",
       "\n",
       "                                                                                                                                                                                                 COMMENT  \\\n",
       "0   The tech support was wonderful.  We were able to fix our problem which was actually occurring on our end but without the help of your tech dept, we wouldn't have figured it out.\\r\\nThanks so much!   \n",
       "1                                                                                                                    Very Professional.  Try to get back to me for day or two, which is cool.  Thank you   \n",
       "2                                                                                                                     The response time was good and the tip is helpful for current and future students.   \n",
       "3                                                               Wendy was very helpful and solved our issue that the teacher/students have been dealing with for the past 14 weeks. Thank you very much!   \n",
       "4                                                                                                                                                    Thank you. We will continue to monitor the student.   \n",
       "..                                                                                                                                                                                                   ...   \n",
       "95                           It took a while for her to actually help me. Most of her comments weren't super helpful. It probably took like 10 minutes until her comments helped me with my question. \\n   \n",
       "96                                                                                                                         She helped me with a lot of Language Arts today and I highly appreciate it.\\n   \n",
       "97                                                                                                                                                                                    Excellent service!   \n",
       "98                                                                                                         she is so amazing she helps me learn alot and she keeeps my spirit up when i am in a bad mood   \n",
       "99                                                                                                                                                                                         Very helpful!   \n",
       "\n",
       "                                                                                                                                                                         PROCESSED_TEXT  \\\n",
       "0   the tech support be wonderful we be able to fix our problem which be actually occur on our end but without the help of your tech dept we would not have figure it out thank so much   \n",
       "1                                                                                                         very professional try to get back to i for day or two which be cool thank you   \n",
       "2                                                                                                       the response time be good and the tip be helpful for current and future student   \n",
       "3                                                         wendy be very helpful and solve our issue that the teacher student have be deal with for the past 14 week thank you very much   \n",
       "4                                                                                                                                     thank you we will continue to monitor the student   \n",
       "..                                                                                                                                                                                  ...   \n",
       "95                        it take a while for she to actually help i most of her comment be not super helpful it probably take like 10 minute until her comment help i with my question   \n",
       "96                                                                                                              she help i with a lot of language arts today and i highly appreciate it   \n",
       "97                                                                                                                                                                    excellent service   \n",
       "98                                                                                           she be so amazing she help i learn alot and she keeep my spirit up when i be in a bad mood   \n",
       "99                                                                                                                                                                         very helpful   \n",
       "\n",
       "    NEGATIVE  POSITIVE NEGATIVE_WORDS            POSITIVE_WORDS  \\\n",
       "0   0.000146  0.999854                    much, wonderful, able   \n",
       "1   0.000281  0.999719                 very, professional, cool   \n",
       "2   0.003221  0.996779                                     good   \n",
       "3   0.010145  0.989855           past                very, much   \n",
       "4   0.033428  0.966572                                            \n",
       "..       ...       ...            ...                       ...   \n",
       "95  0.000047  0.999953     super, not                      most   \n",
       "96  0.010716  0.989284                                   highly   \n",
       "97  0.007408  0.992592                                excellent   \n",
       "98  0.011949  0.988051            bad                   amazing   \n",
       "99  0.025610  0.974390                                     very   \n",
       "\n",
       "                          KEY_PHRASES_spacy  \\\n",
       "0   tech, support, wonderful, able, problem   \n",
       "1              professional, try, day, cool   \n",
       "2        response, time, good, tip, helpful   \n",
       "3   wendy, helpful, issue, teacher, student   \n",
       "4                                   student   \n",
       "..                                      ...   \n",
       "95       comment, helpful, minute, question   \n",
       "96               lot, language, arts, today   \n",
       "97                       excellent, service   \n",
       "98         amazing, alot, spirit, bad, mood   \n",
       "99                                  helpful   \n",
       "\n",
       "                                                                        KEY_PHRASES  \\\n",
       "0   your tech dept, the help, our end, our problem, the tech support, it, we, which   \n",
       "1                                    day, very professional try, i, two, which, you   \n",
       "2                            current and future student, the response time, the tip   \n",
       "3                      the teacher student, the past 14 week, wendy, our issue, you   \n",
       "4                                                              the student, we, you   \n",
       "..                                                                              ...   \n",
       "95         her comment, my question, 10 minute, like 10 minute, a while, i, it, she   \n",
       "96                                                 language arts, a lot, i, it, she   \n",
       "97                                                                excellent service   \n",
       "98                                              alot, a bad mood, my spirit, i, she   \n",
       "99                                                                                    \n",
       "\n",
       "                                   ENTITIES              REASON SCORE  \\\n",
       "0                                            No reason provided  good   \n",
       "1                day | DATE, two | CARDINAL  No reason provided  good   \n",
       "2                                            No reason provided  good   \n",
       "3   wendy | PERSON, the past 14 week | DATE  No reason provided  good   \n",
       "4                                            No reason provided  good   \n",
       "..                                      ...                 ...   ...   \n",
       "95                         10 minute | TIME  No reason provided  good   \n",
       "96                                           No reason provided  good   \n",
       "97                                           No reason provided  good   \n",
       "98                                           No reason provided  good   \n",
       "99                                           No reason provided  good   \n",
       "\n",
       "    SENTIMENT_RATING          CREATED_AT          UPDATED_AT  \n",
       "0                  1 2018-02-07 19:56:26 2018-02-14 20:01:14  \n",
       "1                  1 2018-02-23 17:52:06 2018-03-24 17:02:03  \n",
       "2                  1 2018-03-05 17:35:52 2018-03-09 19:01:04  \n",
       "3                  1 2018-03-06 21:25:42 2018-03-20 19:01:15  \n",
       "4                  1 2018-03-27 14:22:59 2018-03-31 17:02:20  \n",
       "..               ...                 ...                 ...  \n",
       "95                 1 2019-10-17 17:21:28 2019-10-21 19:06:59  \n",
       "96                 1 2019-10-17 19:00:40 2019-10-21 21:04:49  \n",
       "97                 1 2019-10-18 18:12:41 2019-10-22 19:05:13  \n",
       "98                 1 2019-10-21 14:23:41 2019-10-25 16:05:47  \n",
       "99                 1 2019-10-22 22:58:59 2019-10-27 01:03:26  \n",
       "\n",
       "[100 rows x 19 columns]"
      ]
     },
     "execution_count": 22,
     "metadata": {},
     "output_type": "execute_result"
    }
   ],
   "source": [
    "df_new_reviews.head(100)"
   ]
  },
  {
   "cell_type": "markdown",
   "id": "657a899a",
   "metadata": {},
   "source": [
    "# Entity extraction"
   ]
  },
  {
   "cell_type": "code",
   "execution_count": 9,
   "id": "e4afb552",
   "metadata": {},
   "outputs": [],
   "source": [
    "import spacy\n",
    "\n",
    "def extract_entities(sentiment_str: PandasSeries[str]) -> PandasSeries[str]:\n",
    "    # load a spaCy model, depending on language, scale, etc.\n",
    "    nlp = spacy.load(\"en_core_web_sm\")\n",
    "    \n",
    "    res = []\n",
    "    for text in sentiment_str:\n",
    "        doc = nlp(text)\n",
    "        # examine the entities in the document\n",
    "        entities = [entity.text + ' | ' + entity.label_ for entity in doc.ents]\n",
    "        res.append(', '.join(entities))    \n",
    "    return pandas.Series(res)"
   ]
  },
  {
   "cell_type": "code",
   "execution_count": 10,
   "id": "959e6800",
   "metadata": {},
   "outputs": [],
   "source": [
    "# Extract entities from new reviews\n",
    "entities_vect = extract_entities(df_new_reviews[\"PROCESSED_TEXT\"])\n",
    "# Add entities to the dataframe\n",
    "insert_index = df_new_reviews.columns.get_loc(\"KEY_PHRASES\") + 1\n",
    "df_new_reviews.insert(insert_index, column=\"ENTITIES\", value = entities_vect)"
   ]
  },
  {
   "cell_type": "markdown",
   "id": "0359aaf7",
   "metadata": {},
   "source": [
    "### Write the sentiment result to a new table"
   ]
  },
  {
   "cell_type": "code",
   "execution_count": 11,
   "id": "ae6b3129",
   "metadata": {},
   "outputs": [],
   "source": [
    "scored_reviews_output_path = r\"C:\\Users\\an.jiang\\src\\snowpark_demo\\data\\scored_reviews.csv\"\n",
    "df_new_reviews.to_csv(scored_reviews_output_path, index=False)"
   ]
  },
  {
   "cell_type": "markdown",
   "id": "70fb780a",
   "metadata": {},
   "source": [
    "***"
   ]
  },
  {
   "cell_type": "markdown",
   "id": "66f93666",
   "metadata": {},
   "source": [
    "======================================================================================================================"
   ]
  },
  {
   "cell_type": "markdown",
   "id": "12386f77",
   "metadata": {},
   "source": [
    "# SQL queries to all the codes above to an automatic pipeline"
   ]
  },
  {
   "cell_type": "code",
   "execution_count": null,
   "id": "0dea37d6",
   "metadata": {},
   "outputs": [],
   "source": [
    "# Create a stream on directory table\n",
    "create stream unstructured_files_stream on stage unstructured_files;"
   ]
  },
  {
   "cell_type": "code",
   "execution_count": null,
   "id": "f720c2d3",
   "metadata": {},
   "outputs": [],
   "source": [
    "# Create a stream on the raw_reviews staging table\n",
    "create stream raw_reviews_stg_stream on table raw_reviews_stg;"
   ]
  },
  {
   "cell_type": "code",
   "execution_count": null,
   "id": "a91e7567",
   "metadata": {},
   "outputs": [],
   "source": [
    "# Create a task to run scoring on the raw reviews"
   ]
  },
  {
   "cell_type": "code",
   "execution_count": null,
   "id": "168164dc",
   "metadata": {},
   "outputs": [],
   "source": [
    "# Create a task to process the new unstructured files that come in.\n",
    "create or replace task read_unstructured_reviews_task warehouse = 'wh_xs' schedule = '1 minute' \n",
    "when system$stream_has_data('unstructured_files_stream')\n",
    "as \n",
    "insert into raw_reviews_stg\n",
    "select \n",
    "    u.file_url,\n",
    "    t.product_id,\n",
    "    t.product_review, \n",
    "    t.reviews_date\n",
    "from \n",
    "    unstructured_files_stream u\n",
    "join \n",
    "    table(read_unstructured_reviews(u.file_url)) t\n",
    "where\n",
    "    metadata$action = 'INSERT'\n",
    ";"
   ]
  },
  {
   "cell_type": "code",
   "execution_count": null,
   "id": "48aa6ad7",
   "metadata": {},
   "outputs": [],
   "source": [
    "# Create a task to process the newly ingested unstructured reviews\n",
    "create or replace task score_reviews_task warehouse = 'wh_xs' schedule = '1 minute'\n",
    "when system$stream_has_data('raw_reviews_stg_stream')\n",
    "as \n",
    "insert into annotated.scored_reviews\n",
    "select\n",
    "    product_id,\n",
    "    product_review,\n",
    "    review_date,\n",
    "    annotated.predict_sentiment_vect(\n",
    "        remove_stopword_vect(product_review)) as sentiment\n",
    "from \n",
    "    raw_reviews_stg_stream\n",
    "where\n",
    "    metadata$action = 'INSERT'\n",
    ";"
   ]
  },
  {
   "cell_type": "code",
   "execution_count": null,
   "id": "ce503b29",
   "metadata": {},
   "outputs": [],
   "source": [
    "# Start the tasks\n",
    "alter task read_unstructured_reviews_task resume;\n",
    "alter task score_reviews_task resume;"
   ]
  },
  {
   "cell_type": "code",
   "execution_count": null,
   "id": "6213039e",
   "metadata": {},
   "outputs": [],
   "source": []
  },
  {
   "cell_type": "code",
   "execution_count": null,
   "id": "7f9e6150",
   "metadata": {},
   "outputs": [],
   "source": []
  },
  {
   "cell_type": "code",
   "execution_count": null,
   "id": "ebcfcd46",
   "metadata": {},
   "outputs": [],
   "source": []
  }
 ],
 "metadata": {
  "kernelspec": {
   "display_name": "snowpark_env",
   "language": "python",
   "name": "snowpark_env"
  },
  "language_info": {
   "codemirror_mode": {
    "name": "ipython",
    "version": 3
   },
   "file_extension": ".py",
   "mimetype": "text/x-python",
   "name": "python",
   "nbconvert_exporter": "python",
   "pygments_lexer": "ipython3",
   "version": "3.8.13"
  }
 },
 "nbformat": 4,
 "nbformat_minor": 5
}
