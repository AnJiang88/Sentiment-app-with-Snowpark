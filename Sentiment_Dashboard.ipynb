{
 "cells": [
  {
   "cell_type": "code",
   "execution_count": 6,
   "id": "927d5f44",
   "metadata": {},
   "outputs": [],
   "source": [
    "import dash\n",
    "import dash_core_components as dcc\n",
    "import dash_html_components as html\n",
    "import plotly.express as px\n",
    "import pandas as pd\n",
    "\n",
    "app = dash.Dash()\n",
    "\n",
    "df = pd.read_csv(\n",
    "    \"https://raw.githubusercontent.com/ThuwarakeshM/geting-started-with-plottly-dash/main/life_expectancy.csv\"\n",
    ")\n",
    "\n",
    "fig = px.scatter(\n",
    "    df,\n",
    "    x=\"GDP\",\n",
    "    y=\"Life expectancy\",\n",
    "    size=\"Population\",\n",
    "    color=\"continent\",\n",
    "    hover_name=\"Country\",\n",
    "    log_x=True,\n",
    "    size_max=60,\n",
    ")\n",
    "\n",
    "fig.show()\n",
    "\n",
    "# app.layout = html.Div([dcc.Graph(id=\"life-exp-vs-gdp\", figure=fig)])\n",
    "\n",
    "\n",
    "# if __name__ == \"__main__\":\n",
    "#     app.run_server(debug=True)"
   ]
  }
 ],
 "metadata": {
  "kernelspec": {
   "display_name": "snowpark_env",
   "language": "python",
   "name": "snowpark_env"
  },
  "language_info": {
   "codemirror_mode": {
    "name": "ipython",
    "version": 3
   },
   "file_extension": ".py",
   "mimetype": "text/x-python",
   "name": "python",
   "nbconvert_exporter": "python",
   "pygments_lexer": "ipython3",
   "version": "3.8.13"
  }
 },
 "nbformat": 4,
 "nbformat_minor": 5
}
